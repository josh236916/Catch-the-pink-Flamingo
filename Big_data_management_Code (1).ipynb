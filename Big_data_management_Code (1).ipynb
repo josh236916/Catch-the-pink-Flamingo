{
  "nbformat": 4,
  "nbformat_minor": 0,
  "metadata": {
    "colab": {
      "provenance": []
    },
    "kernelspec": {
      "name": "python3",
      "display_name": "Python 3"
    },
    "language_info": {
      "name": "python"
    }
  },
  "cells": [
    {
      "cell_type": "code",
      "source": [
        "import numpy             as np\n",
        "import pandas            as pd\n",
        "import matplotlib.pyplot as plt\n",
        "import seaborn           as sns\n",
        "import plotly.graph_objs as go\n",
        "import plotly.express    as px "
      ],
      "metadata": {
        "id": "U214-XTge1ur"
      },
      "execution_count": null,
      "outputs": []
    },
    {
      "cell_type": "code",
      "execution_count": null,
      "metadata": {
        "colab": {
          "base_uri": "https://localhost:8080/"
        },
        "id": "iiYG-FNiNLX6",
        "outputId": "302db948-1a17-4569-cd1b-c02d2527766f"
      },
      "outputs": [
        {
          "output_type": "stream",
          "name": "stdout",
          "text": [
            "--2023-05-19 07:17:59--  https://archive.apache.org/dist/spark/spark-3.2.1/spark-3.2.1-bin-hadoop2.7.tgz\n",
            "Resolving archive.apache.org (archive.apache.org)... 138.201.131.134, 2a01:4f8:172:2ec5::2\n",
            "Connecting to archive.apache.org (archive.apache.org)|138.201.131.134|:443... connected.\n",
            "HTTP request sent, awaiting response... 200 OK\n",
            "Length: 272637746 (260M) [application/x-gzip]\n",
            "Saving to: ‘spark-3.2.1-bin-hadoop2.7.tgz.1’\n",
            "\n",
            "spark-3.2.1-bin-had 100%[===================>] 260.01M  4.81MB/s    in 55s     \n",
            "\n",
            "2023-05-19 07:18:55 (4.69 MB/s) - ‘spark-3.2.1-bin-hadoop2.7.tgz.1’ saved [272637746/272637746]\n",
            "\n"
          ]
        }
      ],
      "source": [
        "!wget https://archive.apache.org/dist/spark/spark-3.2.1/spark-3.2.1-bin-hadoop2.7.tgz"
      ]
    },
    {
      "cell_type": "code",
      "source": [
        "!apt-get install openjdk-8-jdk-headless"
      ],
      "metadata": {
        "colab": {
          "base_uri": "https://localhost:8080/"
        },
        "id": "RWhQmwYfWEC6",
        "outputId": "9171fd6b-bd0f-42d8-95e3-434f32185bbe"
      },
      "execution_count": null,
      "outputs": [
        {
          "output_type": "stream",
          "name": "stdout",
          "text": [
            "Reading package lists... Done\n",
            "Building dependency tree       \n",
            "Reading state information... Done\n",
            "The following additional packages will be installed:\n",
            "  libxtst6 openjdk-8-jre-headless\n",
            "Suggested packages:\n",
            "  openjdk-8-demo openjdk-8-source libnss-mdns fonts-dejavu-extra\n",
            "  fonts-ipafont-gothic fonts-ipafont-mincho fonts-wqy-microhei\n",
            "  fonts-wqy-zenhei fonts-indic\n",
            "The following NEW packages will be installed:\n",
            "  libxtst6 openjdk-8-jdk-headless openjdk-8-jre-headless\n",
            "0 upgraded, 3 newly installed, 0 to remove and 24 not upgraded.\n",
            "Need to get 36.5 MB of archives.\n",
            "After this operation, 144 MB of additional disk space will be used.\n",
            "Get:1 http://archive.ubuntu.com/ubuntu focal/main amd64 libxtst6 amd64 2:1.2.3-1 [12.8 kB]\n",
            "Get:2 http://archive.ubuntu.com/ubuntu focal-updates/universe amd64 openjdk-8-jre-headless amd64 8u372-ga~us1-0ubuntu1~20.04 [28.3 MB]\n",
            "Get:3 http://archive.ubuntu.com/ubuntu focal-updates/universe amd64 openjdk-8-jdk-headless amd64 8u372-ga~us1-0ubuntu1~20.04 [8,282 kB]\n",
            "Fetched 36.5 MB in 3s (11.6 MB/s)\n",
            "Selecting previously unselected package libxtst6:amd64.\n",
            "(Reading database ... 122531 files and directories currently installed.)\n",
            "Preparing to unpack .../libxtst6_2%3a1.2.3-1_amd64.deb ...\n",
            "Unpacking libxtst6:amd64 (2:1.2.3-1) ...\n",
            "Selecting previously unselected package openjdk-8-jre-headless:amd64.\n",
            "Preparing to unpack .../openjdk-8-jre-headless_8u372-ga~us1-0ubuntu1~20.04_amd64.deb ...\n",
            "Unpacking openjdk-8-jre-headless:amd64 (8u372-ga~us1-0ubuntu1~20.04) ...\n",
            "Selecting previously unselected package openjdk-8-jdk-headless:amd64.\n",
            "Preparing to unpack .../openjdk-8-jdk-headless_8u372-ga~us1-0ubuntu1~20.04_amd64.deb ...\n",
            "Unpacking openjdk-8-jdk-headless:amd64 (8u372-ga~us1-0ubuntu1~20.04) ...\n",
            "Setting up libxtst6:amd64 (2:1.2.3-1) ...\n",
            "Setting up openjdk-8-jre-headless:amd64 (8u372-ga~us1-0ubuntu1~20.04) ...\n",
            "update-alternatives: using /usr/lib/jvm/java-8-openjdk-amd64/jre/bin/orbd to provide /usr/bin/orbd (orbd) in auto mode\n",
            "update-alternatives: using /usr/lib/jvm/java-8-openjdk-amd64/jre/bin/servertool to provide /usr/bin/servertool (servertool) in auto mode\n",
            "update-alternatives: using /usr/lib/jvm/java-8-openjdk-amd64/jre/bin/tnameserv to provide /usr/bin/tnameserv (tnameserv) in auto mode\n",
            "Setting up openjdk-8-jdk-headless:amd64 (8u372-ga~us1-0ubuntu1~20.04) ...\n",
            "update-alternatives: using /usr/lib/jvm/java-8-openjdk-amd64/bin/idlj to provide /usr/bin/idlj (idlj) in auto mode\n",
            "update-alternatives: using /usr/lib/jvm/java-8-openjdk-amd64/bin/wsimport to provide /usr/bin/wsimport (wsimport) in auto mode\n",
            "update-alternatives: using /usr/lib/jvm/java-8-openjdk-amd64/bin/jsadebugd to provide /usr/bin/jsadebugd (jsadebugd) in auto mode\n",
            "update-alternatives: using /usr/lib/jvm/java-8-openjdk-amd64/bin/native2ascii to provide /usr/bin/native2ascii (native2ascii) in auto mode\n",
            "update-alternatives: using /usr/lib/jvm/java-8-openjdk-amd64/bin/javah to provide /usr/bin/javah (javah) in auto mode\n",
            "update-alternatives: using /usr/lib/jvm/java-8-openjdk-amd64/bin/clhsdb to provide /usr/bin/clhsdb (clhsdb) in auto mode\n",
            "update-alternatives: using /usr/lib/jvm/java-8-openjdk-amd64/bin/jhat to provide /usr/bin/jhat (jhat) in auto mode\n",
            "update-alternatives: using /usr/lib/jvm/java-8-openjdk-amd64/bin/extcheck to provide /usr/bin/extcheck (extcheck) in auto mode\n",
            "update-alternatives: using /usr/lib/jvm/java-8-openjdk-amd64/bin/hsdb to provide /usr/bin/hsdb (hsdb) in auto mode\n",
            "update-alternatives: using /usr/lib/jvm/java-8-openjdk-amd64/bin/schemagen to provide /usr/bin/schemagen (schemagen) in auto mode\n",
            "update-alternatives: using /usr/lib/jvm/java-8-openjdk-amd64/bin/xjc to provide /usr/bin/xjc (xjc) in auto mode\n",
            "update-alternatives: using /usr/lib/jvm/java-8-openjdk-amd64/bin/wsgen to provide /usr/bin/wsgen (wsgen) in auto mode\n",
            "Processing triggers for libc-bin (2.31-0ubuntu9.9) ...\n"
          ]
        }
      ]
    },
    {
      "cell_type": "code",
      "source": [
        "!tar xf spark-3.2.1-bin-hadoop2.7.tgz"
      ],
      "metadata": {
        "id": "Ilzaw-LEX06E"
      },
      "execution_count": null,
      "outputs": []
    },
    {
      "cell_type": "code",
      "source": [
        "!pip install -q findspark\n"
      ],
      "metadata": {
        "id": "ahtTQ6uccAaN"
      },
      "execution_count": null,
      "outputs": []
    },
    {
      "cell_type": "code",
      "source": [
        "import os\n",
        "os.environ[\"JAVA_HOME\"] = \"/usr/lib/jvm/java-8-openjdk-amd64\"\n",
        "os.environ[\"SPARK_HOME\"] = \"/content/spark-3.2.1-bin-hadoop2.7\"\n"
      ],
      "metadata": {
        "id": "A-fgXk2PcCak"
      },
      "execution_count": null,
      "outputs": []
    },
    {
      "cell_type": "code",
      "source": [
        "import findspark\n",
        "findspark.init()\n",
        "findspark.find()"
      ],
      "metadata": {
        "colab": {
          "base_uri": "https://localhost:8080/",
          "height": 35
        },
        "id": "BlwjhoLscEsl",
        "outputId": "7fcf1337-324f-4307-cc53-0d882b043cd5"
      },
      "execution_count": null,
      "outputs": [
        {
          "output_type": "execute_result",
          "data": {
            "text/plain": [
              "'/content/spark-3.2.1-bin-hadoop2.7'"
            ],
            "application/vnd.google.colaboratory.intrinsic+json": {
              "type": "string"
            }
          },
          "metadata": {},
          "execution_count": 7
        }
      ]
    },
    {
      "cell_type": "code",
      "source": [
        "from pyspark.sql import SparkSession\n",
        "\n",
        "spark = SparkSession.builder\\\n",
        "        .master(\"local\")\\\n",
        "        .appName(\"eda\")\\\n",
        "        .config('spark.ui.port', '4050')\\\n",
        "        .getOrCreate()"
      ],
      "metadata": {
        "id": "1WQOQ0ggcHS7"
      },
      "execution_count": null,
      "outputs": []
    },
    {
      "cell_type": "code",
      "source": [
        "from pyspark.sql import SparkSession \n",
        "from pyspark.sql.functions import * \n",
        "from pyspark.ml import Pipeline \n",
        "from pyspark.ml.feature import VectorAssembler \n",
        "from pyspark.ml.feature import StringIndexer \n",
        "from pyspark.ml.classification import NaiveBayes \n",
        "from pyspark.ml.evaluation import MulticlassClassificationEvaluator\n",
        "from pyspark.ml.feature import VectorAssembler, StandardScaler\n",
        "from pyspark.ml.clustering import KMeans\n",
        "from pyspark.ml import Pipeline"
      ],
      "metadata": {
        "id": "fKozZC5iLCtq"
      },
      "execution_count": null,
      "outputs": []
    },
    {
      "cell_type": "code",
      "source": [
        "cd_df = spark.read.csv(\"/content/combined-data1.csv\", header=True, inferSchema=True)"
      ],
      "metadata": {
        "id": "rDBEoclbcMO_"
      },
      "execution_count": null,
      "outputs": []
    },
    {
      "cell_type": "code",
      "source": [
        "cd_df.printSchema()"
      ],
      "metadata": {
        "id": "d817YqcbcSZs"
      },
      "execution_count": null,
      "outputs": []
    },
    {
      "cell_type": "code",
      "source": [
        "cd_df.show(5)"
      ],
      "metadata": {
        "id": "GcclZRK4cWq8"
      },
      "execution_count": null,
      "outputs": []
    },
    {
      "cell_type": "code",
      "source": [
        "df = cd_df.na.drop()"
      ],
      "metadata": {
        "id": "hgdf1Gmosb5D"
      },
      "execution_count": null,
      "outputs": []
    },
    {
      "cell_type": "code",
      "source": [
        "df.show(5)"
      ],
      "metadata": {
        "id": "6rC8QGmftcOI"
      },
      "execution_count": null,
      "outputs": []
    },
    {
      "cell_type": "code",
      "source": [
        "df.describe().toPandas().transpose()"
      ],
      "metadata": {
        "id": "BOvnh9pyTGqo"
      },
      "execution_count": null,
      "outputs": []
    },
    {
      "cell_type": "code",
      "source": [
        "df1 = cd_df.drop('userSessionId','teamLevel')"
      ],
      "metadata": {
        "id": "v-LuQJ4esKMX"
      },
      "execution_count": null,
      "outputs": []
    },
    {
      "cell_type": "code",
      "source": [
        "df1.show(5)"
      ],
      "metadata": {
        "id": "fFt_ZrEisYwh"
      },
      "execution_count": null,
      "outputs": []
    },
    {
      "cell_type": "code",
      "source": [
        "df1.stat.corr(\"count_gameclicks\",\"count_hits\")"
      ],
      "metadata": {
        "id": "YySSzLy7dNXG"
      },
      "execution_count": null,
      "outputs": []
    },
    {
      "cell_type": "code",
      "source": [
        "df2 = df1.toPandas()"
      ],
      "metadata": {
        "id": "Yj8jBwd3er5G"
      },
      "execution_count": null,
      "outputs": []
    },
    {
      "cell_type": "code",
      "source": [
        "df2"
      ],
      "metadata": {
        "id": "ZUJ95uLtsu5j"
      },
      "execution_count": null,
      "outputs": []
    },
    {
      "cell_type": "code",
      "source": [
        "plt.figure(figsize=(17, 5))\n",
        "sns.heatmap(df2.isnull(), cbar=True, cmap='Paired_r')\n",
        "plt.xlabel(\"Column_Name\", size=14, weight=\"bold\")\n",
        "plt.title(\"Places of missing values in column\",fontweight=\"bold\",size=14)\n",
        "plt.show()"
      ],
      "metadata": {
        "id": "sFgTaDWlt6DR"
      },
      "execution_count": null,
      "outputs": []
    },
    {
      "cell_type": "code",
      "source": [
        "df3=df1.dropna()"
      ],
      "metadata": {
        "id": "WtI3ggqki-ON"
      },
      "execution_count": null,
      "outputs": []
    },
    {
      "cell_type": "code",
      "source": [
        "df = df3.toPandas()"
      ],
      "metadata": {
        "id": "nCVQTyfx1z6t"
      },
      "execution_count": null,
      "outputs": []
    },
    {
      "cell_type": "code",
      "source": [
        "df"
      ],
      "metadata": {
        "id": "H-BgqyqbrPcI"
      },
      "execution_count": null,
      "outputs": []
    },
    {
      "cell_type": "code",
      "source": [
        "ads_df = spark.read.csv(\"/content/ad-clicks.csv\", header=True, inferSchema=True)"
      ],
      "metadata": {
        "id": "6KVXuC2fmf1F"
      },
      "execution_count": null,
      "outputs": []
    },
    {
      "cell_type": "code",
      "source": [
        "ads_df.show(5)"
      ],
      "metadata": {
        "id": "_TVbmuLrvojX"
      },
      "execution_count": null,
      "outputs": []
    },
    {
      "cell_type": "code",
      "source": [
        "ads_df2 = ads_df.drop('timestamp','txId','userSessionId','teamId','userId','adId')"
      ],
      "metadata": {
        "id": "e_mGDq4kvz15"
      },
      "execution_count": null,
      "outputs": []
    },
    {
      "cell_type": "code",
      "source": [
        "ads_df2.show(5)"
      ],
      "metadata": {
        "id": "szZUa0wVwU-l"
      },
      "execution_count": null,
      "outputs": []
    },
    {
      "cell_type": "code",
      "source": [
        "ads_df3 = ads_df2.toPandas()"
      ],
      "metadata": {
        "id": "X2iUqw38mlx_"
      },
      "execution_count": null,
      "outputs": []
    },
    {
      "cell_type": "code",
      "source": [
        "ads_sorted= ads_df3.sort_values('adCategory')"
      ],
      "metadata": {
        "id": "1ZXaFigQldYH"
      },
      "execution_count": null,
      "outputs": []
    },
    {
      "cell_type": "code",
      "source": [
        "ads_sorted"
      ],
      "metadata": {
        "id": "gBXhL317wpIg"
      },
      "execution_count": null,
      "outputs": []
    },
    {
      "cell_type": "code",
      "source": [
        "plt.figure(figsize=(8, 10))\n",
        "sns.countplot(y=ads_sorted[\"adCategory\"])\n",
        "plt.title('Number of ads by Category',weight='bold', size=15)\n",
        "plt.ylabel('Ad Category', size=15, weight='bold')\n",
        "plt.xlabel('Count', size=15, weight='bold')\n",
        "plt.show()"
      ],
      "metadata": {
        "id": "48InN8KwmzAK"
      },
      "execution_count": null,
      "outputs": []
    },
    {
      "cell_type": "code",
      "source": [
        "sns.countplot(y=df[\"platformType\"],)"
      ],
      "metadata": {
        "id": "K7ts9kuon1tM"
      },
      "execution_count": null,
      "outputs": []
    },
    {
      "cell_type": "code",
      "source": [
        "df.hist(column='count_hits', bins=10)"
      ],
      "metadata": {
        "id": "SaZmXXMMy8fL"
      },
      "execution_count": null,
      "outputs": []
    },
    {
      "cell_type": "code",
      "source": [
        "data = df.sort_values(by='count_hits', ascending=False)\n"
      ],
      "metadata": {
        "id": "mTRDkU88zMtx"
      },
      "execution_count": null,
      "outputs": []
    },
    {
      "cell_type": "code",
      "source": [
        "data1=data.head(10)"
      ],
      "metadata": {
        "id": "61NEXQwm1K5-"
      },
      "execution_count": null,
      "outputs": []
    },
    {
      "cell_type": "code",
      "source": [
        "data1"
      ],
      "metadata": {
        "id": "Yqp5zx6k3QC3"
      },
      "execution_count": null,
      "outputs": []
    },
    {
      "cell_type": "code",
      "source": [
        "ax = data1.plot.barh(x='userId', y='count_hits',xlabel='Hits',ylabel='user ID')"
      ],
      "metadata": {
        "id": "AqrqjMgO1RyI"
      },
      "execution_count": null,
      "outputs": []
    },
    {
      "cell_type": "code",
      "source": [
        "test=df.groupby(['platformType'])['count_hits'].sum().reset_index()"
      ],
      "metadata": {
        "id": "DX3ON6CiDD44"
      },
      "execution_count": null,
      "outputs": []
    },
    {
      "cell_type": "code",
      "source": [
        "test"
      ],
      "metadata": {
        "id": "p8X1vrBcE9tQ"
      },
      "execution_count": null,
      "outputs": []
    },
    {
      "cell_type": "code",
      "source": [
        "ax1 = test.plot.barh(x='platformType', y='count_hits',ylabel='Platform',xlabel='Hits')"
      ],
      "metadata": {
        "id": "2W9HnxU6Ez_D"
      },
      "execution_count": null,
      "outputs": []
    },
    {
      "cell_type": "code",
      "source": [
        "teams = spark.read.csv(\"/content/team-assignments.csv\", header=True, inferSchema=True)"
      ],
      "metadata": {
        "id": "Rrkyr7bGFJS-"
      },
      "execution_count": null,
      "outputs": []
    },
    {
      "cell_type": "code",
      "source": [
        "teams.show(5)"
      ],
      "metadata": {
        "id": "qyqmcBnBzquZ"
      },
      "execution_count": null,
      "outputs": []
    },
    {
      "cell_type": "code",
      "source": [
        "teams1 = teams.drop('timestamp','assignmentId')"
      ],
      "metadata": {
        "id": "E9l9j8Vuz4Vw"
      },
      "execution_count": null,
      "outputs": []
    },
    {
      "cell_type": "code",
      "source": [
        "teams1 = teams1.toPandas()"
      ],
      "metadata": {
        "id": "VDGGT2ZAKKca"
      },
      "execution_count": null,
      "outputs": []
    },
    {
      "cell_type": "code",
      "source": [
        "teams1"
      ],
      "metadata": {
        "id": "Jie1GQC5KVny"
      },
      "execution_count": null,
      "outputs": []
    },
    {
      "cell_type": "code",
      "source": [
        "teamscount=teams1.groupby(['team']).count().reset_index()"
      ],
      "metadata": {
        "id": "JwCBFCEXG-tF"
      },
      "execution_count": null,
      "outputs": []
    },
    {
      "cell_type": "code",
      "source": [
        "teamscount"
      ],
      "metadata": {
        "id": "5ln4-hslKw3R"
      },
      "execution_count": null,
      "outputs": []
    },
    {
      "cell_type": "code",
      "source": [
        "teamscount2=teamscount.head(10)"
      ],
      "metadata": {
        "id": "MeG2q9qmdYR7"
      },
      "execution_count": null,
      "outputs": []
    },
    {
      "cell_type": "code",
      "source": [
        "ax2 = teamscount2.plot.barh(x='team', y='userId')"
      ],
      "metadata": {
        "id": "4FdvawB-03dH"
      },
      "execution_count": null,
      "outputs": []
    },
    {
      "cell_type": "code",
      "source": [
        "hitspf=df.groupby(['platformType','count_hits']).sum().reset_index()"
      ],
      "metadata": {
        "id": "j5OvEMP3tUcG"
      },
      "execution_count": null,
      "outputs": []
    },
    {
      "cell_type": "code",
      "source": [
        "hitspf"
      ],
      "metadata": {
        "id": "T_KSDOqC0fD9"
      },
      "execution_count": null,
      "outputs": []
    },
    {
      "cell_type": "code",
      "source": [
        "hitspf2=hitspf.sort_values(by=['userId'])"
      ],
      "metadata": {
        "id": "IoeeKfg9tfH1"
      },
      "execution_count": null,
      "outputs": []
    },
    {
      "cell_type": "code",
      "source": [
        "hitspf2"
      ],
      "metadata": {
        "id": "snYpda3As4Bl"
      },
      "execution_count": null,
      "outputs": []
    },
    {
      "cell_type": "code",
      "source": [
        "buy = spark.read.csv(\"/content/buy-clicks.csv\", header=True, inferSchema=True)"
      ],
      "metadata": {
        "id": "xghJw6pfzzaF"
      },
      "execution_count": null,
      "outputs": []
    },
    {
      "cell_type": "code",
      "source": [
        "buy1 = buy.drop('timestamp','txId','userSessionId')"
      ],
      "metadata": {
        "id": "JFuvDVrL1c2S"
      },
      "execution_count": null,
      "outputs": []
    },
    {
      "cell_type": "code",
      "source": [
        "buy1.show(5)"
      ],
      "metadata": {
        "id": "I2b9Irrk1UiO"
      },
      "execution_count": null,
      "outputs": []
    },
    {
      "cell_type": "code",
      "source": [
        "buy1 = buy1.toPandas()"
      ],
      "metadata": {
        "id": "coyPMoi_2GYN"
      },
      "execution_count": null,
      "outputs": []
    },
    {
      "cell_type": "code",
      "source": [
        "buy1"
      ],
      "metadata": {
        "id": "rdsZeTyb2J18"
      },
      "execution_count": null,
      "outputs": []
    },
    {
      "cell_type": "code",
      "source": [
        "teamprice=buy1.groupby(['team'])['price'].sum().reset_index()"
      ],
      "metadata": {
        "id": "qlqH3NTf3x19"
      },
      "execution_count": null,
      "outputs": []
    },
    {
      "cell_type": "code",
      "source": [
        "teamprice"
      ],
      "metadata": {
        "id": "rvZYBiBx3q6s"
      },
      "execution_count": null,
      "outputs": []
    },
    {
      "cell_type": "code",
      "source": [
        "teampricesort=teamprice.sort_values(by=['price'],ascending=False)"
      ],
      "metadata": {
        "id": "1wsC20lK3-IO"
      },
      "execution_count": null,
      "outputs": []
    },
    {
      "cell_type": "code",
      "source": [
        "teampricesort"
      ],
      "metadata": {
        "id": "ciwYUnIc4Ih_"
      },
      "execution_count": null,
      "outputs": []
    },
    {
      "cell_type": "code",
      "source": [
        "teampricesort=teampricesort.head(10)"
      ],
      "metadata": {
        "id": "1qBAk-Rf6jdr"
      },
      "execution_count": null,
      "outputs": []
    },
    {
      "cell_type": "code",
      "source": [
        "ax3 = teampricesort.plot.barh(x='team', y='price',ylabel='Team ID',xlabel='Money Spent')"
      ],
      "metadata": {
        "id": "ajtnWMUH6a2P"
      },
      "execution_count": null,
      "outputs": []
    },
    {
      "cell_type": "code",
      "source": [
        "playerprice=buy1.groupby(['userId'])['price'].sum().reset_index()"
      ],
      "metadata": {
        "id": "3-TSgIDa7QCI"
      },
      "execution_count": null,
      "outputs": []
    },
    {
      "cell_type": "code",
      "source": [
        "playerprice"
      ],
      "metadata": {
        "id": "0T2KDNDL7rJp"
      },
      "execution_count": null,
      "outputs": []
    },
    {
      "cell_type": "code",
      "source": [
        "playerpricesort=playerprice.sort_values(by=['price'],ascending=False)"
      ],
      "metadata": {
        "id": "7l8FmKlm7vsr"
      },
      "execution_count": null,
      "outputs": []
    },
    {
      "cell_type": "code",
      "source": [
        "playerpricesort=playerpricesort.head(10)"
      ],
      "metadata": {
        "id": "nfGsYDdw8Pqe"
      },
      "execution_count": null,
      "outputs": []
    },
    {
      "cell_type": "code",
      "source": [
        "playerpricesort"
      ],
      "metadata": {
        "id": "m4G5wBGq8XNm"
      },
      "execution_count": null,
      "outputs": []
    },
    {
      "cell_type": "code",
      "source": [
        "ax4 = playerpricesort.plot.barh(x='userId', y='price',ylabel='Team ID',xlabel='Money Spent')"
      ],
      "metadata": {
        "id": "RHM8HWEl711w"
      },
      "execution_count": null,
      "outputs": []
    },
    {
      "cell_type": "markdown",
      "source": [
        "Decision Tree"
      ],
      "metadata": {
        "id": "bCDiPgmN25Ov"
      }
    },
    {
      "cell_type": "code",
      "source": [
        "df = spark.read.csv('/content/combined-data1.csv', sep=',', header=True, inferSchema=True, nullValue='NA')\n",
        "\n",
        "df.show(5)"
      ],
      "metadata": {
        "id": "saq6d-3624E6",
        "colab": {
          "base_uri": "https://localhost:8080/"
        },
        "outputId": "538ba130-aa1a-4194-803e-bd3db8fefc18"
      },
      "execution_count": null,
      "outputs": [
        {
          "output_type": "stream",
          "name": "stdout",
          "text": [
            "+------+-------------+---------+------------+----------------+----------+-----------+---------+\n",
            "|userId|userSessionId|teamLevel|platformType|count_gameclicks|count_hits|count_buyId|avg_price|\n",
            "+------+-------------+---------+------------+----------------+----------+-----------+---------+\n",
            "|   812|         5648|        1|     android|              69|         8|       null|     null|\n",
            "|  1658|         5649|        1|      iphone|              31|         5|       null|     null|\n",
            "|  1589|         5650|        1|      iphone|              26|         2|       null|     null|\n",
            "|  1863|         5651|        1|     android|              35|         4|       null|     null|\n",
            "|   937|         5652|        1|     android|              39|         0|          1|      1.0|\n",
            "+------+-------------+---------+------------+----------------+----------+-----------+---------+\n",
            "only showing top 5 rows\n",
            "\n"
          ]
        }
      ]
    },
    {
      "cell_type": "code",
      "source": [
        "df2 = df.dropna()"
      ],
      "metadata": {
        "id": "TodcR3Ch3Czw"
      },
      "execution_count": null,
      "outputs": []
    },
    {
      "cell_type": "code",
      "source": [
        "df2.show(5)"
      ],
      "metadata": {
        "id": "jedBDNoI3LCl",
        "colab": {
          "base_uri": "https://localhost:8080/"
        },
        "outputId": "a92211f8-7f4a-4918-e092-ee2b09ea8d3f"
      },
      "execution_count": null,
      "outputs": [
        {
          "output_type": "stream",
          "name": "stdout",
          "text": [
            "+------+-------------+---------+------------+----------------+----------+-----------+---------+\n",
            "|userId|userSessionId|teamLevel|platformType|count_gameclicks|count_hits|count_buyId|avg_price|\n",
            "+------+-------------+---------+------------+----------------+----------+-----------+---------+\n",
            "|   937|         5652|        1|     android|              39|         0|          1|      1.0|\n",
            "|  1623|         5659|        1|      iphone|             129|         9|          1|     10.0|\n",
            "|    83|         5661|        1|     android|             102|        14|          1|      5.0|\n",
            "|   121|         5665|        1|     android|              39|         4|          1|      3.0|\n",
            "|   462|         5666|        1|     android|              90|        10|          1|      3.0|\n",
            "+------+-------------+---------+------------+----------------+----------+-----------+---------+\n",
            "only showing top 5 rows\n",
            "\n"
          ]
        }
      ]
    },
    {
      "cell_type": "code",
      "source": [
        "from pyspark.sql.functions import round"
      ],
      "metadata": {
        "id": "4Dfs2HNN3OJs"
      },
      "execution_count": null,
      "outputs": []
    },
    {
      "cell_type": "code",
      "source": [
        "df2 = df2.withColumn('label', (df2.count_hits >= 25).cast('integer'))"
      ],
      "metadata": {
        "id": "ZqGHqZ0x3Sro"
      },
      "execution_count": null,
      "outputs": []
    },
    {
      "cell_type": "code",
      "source": [
        "df3 = df2.drop('userId','userSessionId','teamLevel','count_buyId')"
      ],
      "metadata": {
        "id": "gFpS9jJu3Yo_"
      },
      "execution_count": null,
      "outputs": []
    },
    {
      "cell_type": "code",
      "source": [
        "df3.show(5)"
      ],
      "metadata": {
        "colab": {
          "base_uri": "https://localhost:8080/"
        },
        "id": "-B6Fbko89B5G",
        "outputId": "5cff0268-fcdc-4524-a25b-e4f92cbe0923"
      },
      "execution_count": null,
      "outputs": [
        {
          "output_type": "stream",
          "name": "stdout",
          "text": [
            "+------------+----------------+----------+---------+-----+\n",
            "|platformType|count_gameclicks|count_hits|avg_price|label|\n",
            "+------------+----------------+----------+---------+-----+\n",
            "|     android|              39|         0|      1.0|    0|\n",
            "|      iphone|             129|         9|     10.0|    0|\n",
            "|     android|             102|        14|      5.0|    0|\n",
            "|     android|              39|         4|      3.0|    0|\n",
            "|     android|              90|        10|      3.0|    0|\n",
            "+------------+----------------+----------+---------+-----+\n",
            "only showing top 5 rows\n",
            "\n"
          ]
        }
      ]
    },
    {
      "cell_type": "code",
      "source": [
        "from pyspark.ml.feature import StringIndexer"
      ],
      "metadata": {
        "id": "dBjZbAKO3bx2"
      },
      "execution_count": null,
      "outputs": []
    },
    {
      "cell_type": "code",
      "source": [
        "indexer = StringIndexer(inputCol='platformType', outputCol='platformType_idx')"
      ],
      "metadata": {
        "id": "aeOez6Px3fC3"
      },
      "execution_count": null,
      "outputs": []
    },
    {
      "cell_type": "code",
      "source": [
        "indexer_model = indexer.fit(df3)"
      ],
      "metadata": {
        "id": "vUgEhyPn3i_M"
      },
      "execution_count": null,
      "outputs": []
    },
    {
      "cell_type": "code",
      "source": [
        "df3_indexed = indexer_model.transform(df3)"
      ],
      "metadata": {
        "id": "pRWP4R6P3mIX"
      },
      "execution_count": null,
      "outputs": []
    },
    {
      "cell_type": "code",
      "source": [
        "from pyspark.ml.feature import VectorAssembler\n",
        "assembler = VectorAssembler(inputCols=[\n",
        "    'platformType_idx', 'count_gameclicks',\n",
        "    'avg_price', \n",
        "], outputCol='features')"
      ],
      "metadata": {
        "id": "Vz5Nlobv3rVX"
      },
      "execution_count": null,
      "outputs": []
    },
    {
      "cell_type": "code",
      "source": [
        "df_assembled = assembler.transform(df3_indexed)"
      ],
      "metadata": {
        "id": "AcNdbyEU3t55"
      },
      "execution_count": null,
      "outputs": []
    },
    {
      "cell_type": "code",
      "source": [
        "df_assembled.select('features', 'count_hits').show(5, truncate=False)"
      ],
      "metadata": {
        "id": "ttrMRwAx3zag",
        "colab": {
          "base_uri": "https://localhost:8080/"
        },
        "outputId": "7677a4f3-8aa8-4b7f-92cd-d7ccc358e15f"
      },
      "execution_count": null,
      "outputs": [
        {
          "output_type": "stream",
          "name": "stdout",
          "text": [
            "+----------------+----------+\n",
            "|features        |count_hits|\n",
            "+----------------+----------+\n",
            "|[1.0,39.0,1.0]  |0         |\n",
            "|[0.0,129.0,10.0]|9         |\n",
            "|[1.0,102.0,5.0] |14        |\n",
            "|[1.0,39.0,3.0]  |4         |\n",
            "|[1.0,90.0,3.0]  |10        |\n",
            "+----------------+----------+\n",
            "only showing top 5 rows\n",
            "\n"
          ]
        }
      ]
    },
    {
      "cell_type": "code",
      "source": [
        "hits_train, hits_test = df_assembled.randomSplit([0.8, 0.2], seed=1)"
      ],
      "metadata": {
        "id": "TLY7Wzi133-f"
      },
      "execution_count": null,
      "outputs": []
    },
    {
      "cell_type": "code",
      "source": [
        "from pyspark.ml.classification import DecisionTreeClassifier\n",
        "\n",
        "# Create a classifier object and fit to the training data\n",
        "tree = DecisionTreeClassifier()\n",
        "tree_model = tree.fit(hits_train)\n",
        "\n",
        "# Create predictions for the testing data and take a look at the predictions\n",
        "prediction = tree_model.transform(hits_test)\n",
        "prediction.select('label', 'prediction', 'probability').show(5, False)"
      ],
      "metadata": {
        "id": "8W6AlKKo37i4",
        "colab": {
          "base_uri": "https://localhost:8080/"
        },
        "outputId": "2bd5cf71-ceff-456b-94ca-e25b2bad831d"
      },
      "execution_count": null,
      "outputs": [
        {
          "output_type": "stream",
          "name": "stdout",
          "text": [
            "+-----+----------+-----------------------------------------+\n",
            "|label|prediction|probability                              |\n",
            "+-----+----------+-----------------------------------------+\n",
            "|0    |0.0       |[0.9866071428571429,0.013392857142857142]|\n",
            "|0    |0.0       |[0.9866071428571429,0.013392857142857142]|\n",
            "|0    |0.0       |[0.9866071428571429,0.013392857142857142]|\n",
            "|0    |0.0       |[0.9866071428571429,0.013392857142857142]|\n",
            "|0    |0.0       |[0.9866071428571429,0.013392857142857142]|\n",
            "+-----+----------+-----------------------------------------+\n",
            "only showing top 5 rows\n",
            "\n"
          ]
        }
      ]
    },
    {
      "cell_type": "code",
      "source": [
        "\n",
        "prediction.groupBy('label', 'prediction').count().show()\n",
        "\n",
        "\n",
        "TN = prediction.filter('prediction = 0 AND label = prediction').count()\n",
        "TP = prediction.filter('prediction = 1 AND label = prediction').count()\n",
        "FN = prediction.filter('prediction = 0 AND label = 1').count()\n",
        "FP = prediction.filter('prediction = 1 AND label = 0').count()\n",
        "\n",
        "\n",
        "accuracy = (TN + TP) / (TN + TP + FN + FP)\n",
        "print(accuracy)"
      ],
      "metadata": {
        "id": "b2mFkYLI4Det",
        "colab": {
          "base_uri": "https://localhost:8080/"
        },
        "outputId": "44c64dad-e759-43e5-b842-514eecec90ed"
      },
      "execution_count": null,
      "outputs": [
        {
          "output_type": "stream",
          "name": "stdout",
          "text": [
            "+-----+----------+-----+\n",
            "|label|prediction|count|\n",
            "+-----+----------+-----+\n",
            "|    1|       0.0|    6|\n",
            "|    0|       0.0|  212|\n",
            "|    1|       1.0|   42|\n",
            "|    0|       1.0|    4|\n",
            "+-----+----------+-----+\n",
            "\n",
            "0.9621212121212122\n"
          ]
        }
      ]
    },
    {
      "cell_type": "markdown",
      "source": [
        "Naive Bayes"
      ],
      "metadata": {
        "id": "O2EgBtVW4NP-"
      }
    },
    {
      "cell_type": "code",
      "source": [
        "df = spark.read.csv('/content/combined-data1.csv', sep=',', header=True, inferSchema=True, nullValue='NA')\n",
        "df.show(5)"
      ],
      "metadata": {
        "id": "4psNpPyA4J5w",
        "colab": {
          "base_uri": "https://localhost:8080/"
        },
        "outputId": "8a23fb23-b460-4a45-f9e7-274c14874e08"
      },
      "execution_count": null,
      "outputs": [
        {
          "output_type": "stream",
          "name": "stdout",
          "text": [
            "+------+-------------+---------+------------+----------------+----------+-----------+---------+\n",
            "|userId|userSessionId|teamLevel|platformType|count_gameclicks|count_hits|count_buyId|avg_price|\n",
            "+------+-------------+---------+------------+----------------+----------+-----------+---------+\n",
            "|   812|         5648|        1|     android|              69|         8|       null|     null|\n",
            "|  1658|         5649|        1|      iphone|              31|         5|       null|     null|\n",
            "|  1589|         5650|        1|      iphone|              26|         2|       null|     null|\n",
            "|  1863|         5651|        1|     android|              35|         4|       null|     null|\n",
            "|   937|         5652|        1|     android|              39|         0|          1|      1.0|\n",
            "+------+-------------+---------+------------+----------------+----------+-----------+---------+\n",
            "only showing top 5 rows\n",
            "\n"
          ]
        }
      ]
    },
    {
      "cell_type": "code",
      "source": [
        "df2 = df.dropna()"
      ],
      "metadata": {
        "id": "iUK7KfkR4lT0"
      },
      "execution_count": null,
      "outputs": []
    },
    {
      "cell_type": "code",
      "source": [
        "df2 = df2.withColumn('label', (df2.avg_price >= 5).cast('integer'))"
      ],
      "metadata": {
        "id": "KVZoBphN4rG-"
      },
      "execution_count": null,
      "outputs": []
    },
    {
      "cell_type": "code",
      "source": [
        "df3 = df2.drop('userId','userSessionId','teamLevel','count_buyId')"
      ],
      "metadata": {
        "id": "qFdslEb544Dm"
      },
      "execution_count": null,
      "outputs": []
    },
    {
      "cell_type": "code",
      "source": [
        "df3.show(5)"
      ],
      "metadata": {
        "id": "5WR7dOVi47Y_",
        "colab": {
          "base_uri": "https://localhost:8080/"
        },
        "outputId": "8848fc20-a43c-4eca-8568-1092d840a621"
      },
      "execution_count": null,
      "outputs": [
        {
          "output_type": "stream",
          "name": "stdout",
          "text": [
            "+------------+----------------+----------+---------+-----+\n",
            "|platformType|count_gameclicks|count_hits|avg_price|label|\n",
            "+------------+----------------+----------+---------+-----+\n",
            "|     android|              39|         0|      1.0|    0|\n",
            "|      iphone|             129|         9|     10.0|    1|\n",
            "|     android|             102|        14|      5.0|    1|\n",
            "|     android|              39|         4|      3.0|    0|\n",
            "|     android|              90|        10|      3.0|    0|\n",
            "+------------+----------------+----------+---------+-----+\n",
            "only showing top 5 rows\n",
            "\n"
          ]
        }
      ]
    },
    {
      "cell_type": "code",
      "source": [
        "indexer = StringIndexer(inputCol='platformType', outputCol='platformType_idx')"
      ],
      "metadata": {
        "id": "x5UaHdg_5Kq0"
      },
      "execution_count": null,
      "outputs": []
    },
    {
      "cell_type": "code",
      "source": [
        "indexer_model = indexer.fit(df3)"
      ],
      "metadata": {
        "id": "xBQlXF365Ocx"
      },
      "execution_count": null,
      "outputs": []
    },
    {
      "cell_type": "code",
      "source": [
        "df3_indexed = indexer_model.transform(df3)"
      ],
      "metadata": {
        "id": "j-qdMnHb5Rlq"
      },
      "execution_count": null,
      "outputs": []
    },
    {
      "cell_type": "code",
      "source": [
        "from pyspark.ml.feature import VectorAssembler\n",
        "assembler = VectorAssembler(inputCols=[\n",
        "    'platformType_idx', 'count_gameclicks','count_hits',\n",
        "], outputCol='features')"
      ],
      "metadata": {
        "id": "oTouOntD5WFJ"
      },
      "execution_count": null,
      "outputs": []
    },
    {
      "cell_type": "code",
      "source": [
        "df_assembled = assembler.transform(df3_indexed)"
      ],
      "metadata": {
        "id": "S4pHFo3H5Tiy"
      },
      "execution_count": null,
      "outputs": []
    },
    {
      "cell_type": "code",
      "source": [
        "df_assembled.select('features', 'avg_price').show(5, truncate=False)"
      ],
      "metadata": {
        "id": "JdN-ilPd5dK1",
        "colab": {
          "base_uri": "https://localhost:8080/"
        },
        "outputId": "8a653e16-03b2-4c4b-d8c5-c6693ab15b43"
      },
      "execution_count": null,
      "outputs": [
        {
          "output_type": "stream",
          "name": "stdout",
          "text": [
            "+----------------+---------+\n",
            "|features        |avg_price|\n",
            "+----------------+---------+\n",
            "|[1.0,39.0,0.0]  |1.0      |\n",
            "|[0.0,129.0,9.0] |10.0     |\n",
            "|[1.0,102.0,14.0]|5.0      |\n",
            "|[1.0,39.0,4.0]  |3.0      |\n",
            "|[1.0,90.0,10.0] |3.0      |\n",
            "+----------------+---------+\n",
            "only showing top 5 rows\n",
            "\n"
          ]
        }
      ]
    },
    {
      "cell_type": "code",
      "source": [
        "spending_train, spending_test = df_assembled.randomSplit([0.8, 0.2], seed=1)"
      ],
      "metadata": {
        "id": "2w-diTh05hJC"
      },
      "execution_count": null,
      "outputs": []
    },
    {
      "cell_type": "code",
      "source": [
        "from pyspark.ml.classification import DecisionTreeClassifier\n",
        "\n",
        "\n",
        "nb = NaiveBayes(modelType='multinomial')\n",
        "nbmodel = nb.fit(spending_train)"
      ],
      "metadata": {
        "id": "skRZYoju5iuB"
      },
      "execution_count": null,
      "outputs": []
    },
    {
      "cell_type": "code",
      "source": [
        "prediction = nbmodel.transform(spending_test)\n",
        "prediction.select('label', 'prediction', 'probability').show(5, False)"
      ],
      "metadata": {
        "id": "ivec7UXf5rKd",
        "colab": {
          "base_uri": "https://localhost:8080/"
        },
        "outputId": "ac0cf4e1-82a5-4813-d06d-901a77880582"
      },
      "execution_count": null,
      "outputs": [
        {
          "output_type": "stream",
          "name": "stdout",
          "text": [
            "+-----+----------+----------------------------------------+\n",
            "|label|prediction|probability                             |\n",
            "+-----+----------+----------------------------------------+\n",
            "|1    |0.0       |[0.8140171321940095,0.18598286780599044]|\n",
            "|0    |0.0       |[0.7923144386490544,0.20768556135094554]|\n",
            "|0    |0.0       |[0.8034403640967792,0.1965596359032207] |\n",
            "|0    |0.0       |[0.8141101001520928,0.18588989984790708]|\n",
            "|0    |0.0       |[0.8243478193141679,0.17565218068583216]|\n",
            "+-----+----------+----------------------------------------+\n",
            "only showing top 5 rows\n",
            "\n"
          ]
        }
      ]
    },
    {
      "cell_type": "code",
      "source": [
        "\n",
        "prediction.groupBy('label', 'prediction').count().show()\n",
        "\n",
        "\n",
        "TN = prediction.filter('prediction = 0 AND label = prediction').count()\n",
        "TP = prediction.filter('prediction = 1 AND label = prediction').count()\n",
        "FN = prediction.filter('prediction = 0 AND label = 1').count()\n",
        "FP = prediction.filter('prediction = 1 AND label = 0').count()\n",
        "\n",
        "\n",
        "accuracy = (TN + TP) / (TN + TP + FN + FP)\n",
        "print(accuracy)"
      ],
      "metadata": {
        "id": "Gn5qKI9K5wlf",
        "colab": {
          "base_uri": "https://localhost:8080/"
        },
        "outputId": "e2a3947b-50ad-4c30-bcf2-51895fdb4526"
      },
      "execution_count": null,
      "outputs": [
        {
          "output_type": "stream",
          "name": "stdout",
          "text": [
            "+-----+----------+-----+\n",
            "|label|prediction|count|\n",
            "+-----+----------+-----+\n",
            "|    1|       0.0|   28|\n",
            "|    0|       0.0|  121|\n",
            "|    1|       1.0|   97|\n",
            "|    0|       1.0|   18|\n",
            "+-----+----------+-----+\n",
            "\n",
            "0.8257575757575758\n"
          ]
        }
      ]
    },
    {
      "cell_type": "markdown",
      "source": [
        "K means Clustering"
      ],
      "metadata": {
        "id": "vWZH49Yj6tfR"
      }
    },
    {
      "cell_type": "code",
      "source": [
        "df = spark.read.csv('/content/combined-data1.csv', sep=',', header=True, inferSchema=True, nullValue='NA')\n",
        "df.show(5)"
      ],
      "metadata": {
        "id": "gCEnpILI6xP0",
        "colab": {
          "base_uri": "https://localhost:8080/"
        },
        "outputId": "8a741063-1f3a-4588-f37a-f4e9c373dc88"
      },
      "execution_count": null,
      "outputs": [
        {
          "output_type": "stream",
          "name": "stdout",
          "text": [
            "+------+-------------+---------+------------+----------------+----------+-----------+---------+\n",
            "|userId|userSessionId|teamLevel|platformType|count_gameclicks|count_hits|count_buyId|avg_price|\n",
            "+------+-------------+---------+------------+----------------+----------+-----------+---------+\n",
            "|   812|         5648|        1|     android|              69|         8|       null|     null|\n",
            "|  1658|         5649|        1|      iphone|              31|         5|       null|     null|\n",
            "|  1589|         5650|        1|      iphone|              26|         2|       null|     null|\n",
            "|  1863|         5651|        1|     android|              35|         4|       null|     null|\n",
            "|   937|         5652|        1|     android|              39|         0|          1|      1.0|\n",
            "+------+-------------+---------+------------+----------------+----------+-----------+---------+\n",
            "only showing top 5 rows\n",
            "\n"
          ]
        }
      ]
    },
    {
      "cell_type": "code",
      "source": [
        "df2 = df.dropna()"
      ],
      "metadata": {
        "id": "UL2dKsd56-PE"
      },
      "execution_count": null,
      "outputs": []
    },
    {
      "cell_type": "code",
      "source": [
        "df3 = df2.drop('userId','userSessionId','teamLevel','platformType','count_buyId')"
      ],
      "metadata": {
        "id": "nm7kd5ZO7CQP"
      },
      "execution_count": null,
      "outputs": []
    },
    {
      "cell_type": "code",
      "source": [
        "num_cols = ['count_gameclicks', 'count_hits', 'avg_price']"
      ],
      "metadata": {
        "id": "zJB4XD6g7HI7"
      },
      "execution_count": null,
      "outputs": []
    },
    {
      "cell_type": "code",
      "source": [
        "\n",
        "assemble=VectorAssembler(inputCols=num_cols, outputCol='features')\n",
        "scale=StandardScaler(inputCol='features',outputCol='standardized')\n",
        "km = KMeans(featuresCol = 'standardized')\n",
        "\n",
        "\n",
        "pipe = Pipeline(stages=[assemble, scale, km])"
      ],
      "metadata": {
        "id": "gNAUGCEs7NfP"
      },
      "execution_count": null,
      "outputs": []
    },
    {
      "cell_type": "code",
      "source": [
        "from pyspark.ml.evaluation import ClusteringEvaluator\n",
        "\n",
        "\n",
        "evaluator = ClusteringEvaluator()\n",
        "\n",
        "\n",
        "for k in range(2,10):\n",
        "  # set the KMeans stage of the pipe to hold each value of K and the random seed = 1 and fit that pipe to data  \n",
        "  kmeans = pipe.getStages()[-1].setK(k).setSeed(3)  \n",
        "  model = pipe.fit(df3)\n",
        "  \n",
        " \n",
        "  predictions = model.transform(df3)\n",
        "\n",
        "   \n",
        "  silhouette = evaluator.evaluate(predictions)\n",
        "  print(f'Tested: {k} clusters: {silhouette}')"
      ],
      "metadata": {
        "id": "uhJn0Im97Z2c",
        "colab": {
          "base_uri": "https://localhost:8080/"
        },
        "outputId": "bcf9d8ae-911c-4b70-a34c-f40be0330c1a"
      },
      "execution_count": null,
      "outputs": [
        {
          "output_type": "stream",
          "name": "stdout",
          "text": [
            "Tested: 2 clusters: 0.8791124447845252\n",
            "Tested: 3 clusters: 0.11592377959248912\n",
            "Tested: 4 clusters: 0.16425527315275684\n",
            "Tested: 5 clusters: 0.10958097753796746\n",
            "Tested: 6 clusters: 0.24634170737002978\n",
            "Tested: 7 clusters: 0.09846761768964858\n",
            "Tested: 8 clusters: -0.03141173789374087\n",
            "Tested: 9 clusters: 0.017989744261837862\n"
          ]
        }
      ]
    },
    {
      "cell_type": "code",
      "source": [
        "pipe.getStages()[-1].setK(2).setSeed(1)  \n",
        "\n",
        "\n",
        "model = pipe.fit(df3)\n",
        "clusters = model.transform(df3)\n",
        "clusters.show()"
      ],
      "metadata": {
        "id": "BgJVUhiX7zP2",
        "colab": {
          "base_uri": "https://localhost:8080/"
        },
        "outputId": "d43ffaf5-8d96-456c-c0dc-f4c925c6b023"
      },
      "execution_count": null,
      "outputs": [
        {
          "output_type": "stream",
          "name": "stdout",
          "text": [
            "+----------------+----------+---------+----------------+--------------------+----------+\n",
            "|count_gameclicks|count_hits|avg_price|        features|        standardized|prediction|\n",
            "+----------------+----------+---------+----------------+--------------------+----------+\n",
            "|              39|         0|      1.0|  [39.0,0.0,1.0]|[0.32564337906060...|         1|\n",
            "|             129|         9|     10.0|[129.0,9.0,10.0]|[1.07712809996968...|         1|\n",
            "|             102|        14|      5.0|[102.0,14.0,5.0]|[0.85168268369695...|         1|\n",
            "|              39|         4|      3.0|  [39.0,4.0,3.0]|[0.32564337906060...|         1|\n",
            "|              90|        10|      3.0| [90.0,10.0,3.0]|[0.75148472090908...|         1|\n",
            "|              51|         8|     20.0| [51.0,8.0,20.0]|[0.42584134184847...|         1|\n",
            "|              51|         6|      2.5|  [51.0,6.0,2.5]|[0.42584134184847...|         1|\n",
            "|              47|         5|      2.0|  [47.0,5.0,2.0]|[0.39244202091918...|         1|\n",
            "|              46|         7|      1.0|  [46.0,7.0,1.0]|[0.38409219068686...|         1|\n",
            "|              41|         6|     20.0| [41.0,6.0,20.0]|[0.34234303952524...|         1|\n",
            "|              47|         7|      3.0|  [47.0,7.0,3.0]|[0.39244202091918...|         1|\n",
            "|              76|         7|     20.0| [76.0,7.0,20.0]|[0.63458709765655...|         1|\n",
            "|              52|         2|      3.0|  [52.0,2.0,3.0]|[0.43419117208080...|         1|\n",
            "|              62|         9|      3.0|  [62.0,9.0,3.0]|[0.51768947440403...|         1|\n",
            "|             177|        25|      7.5|[177.0,25.0,7.5]|[1.47791995112119...|         1|\n",
            "|              54|         5|     10.0| [54.0,5.0,10.0]|[0.45089083254544...|         1|\n",
            "|              27|         4|      4.0|  [27.0,4.0,4.0]|[0.22544541627272...|         1|\n",
            "|              37|         2|     20.0| [37.0,2.0,20.0]|[0.30894371859595...|         1|\n",
            "|              67|         5|      1.0|  [67.0,5.0,1.0]|[0.55943862556564...|         1|\n",
            "|              37|         5|     11.5| [37.0,5.0,11.5]|[0.30894371859595...|         1|\n",
            "+----------------+----------+---------+----------------+--------------------+----------+\n",
            "only showing top 20 rows\n",
            "\n"
          ]
        }
      ]
    },
    {
      "cell_type": "code",
      "source": [
        "df = clusters.toPandas()"
      ],
      "metadata": {
        "id": "349CzX3478c7"
      },
      "execution_count": null,
      "outputs": []
    },
    {
      "cell_type": "code",
      "source": [
        "df"
      ],
      "metadata": {
        "id": "xCfduoGR7_4A",
        "colab": {
          "base_uri": "https://localhost:8080/",
          "height": 424
        },
        "outputId": "710eac3d-f505-4a52-b74c-5abc6039ee56"
      },
      "execution_count": null,
      "outputs": [
        {
          "output_type": "execute_result",
          "data": {
            "text/plain": [
              "      count_gameclicks  count_hits  avg_price             features  \\\n",
              "0                   39           0        1.0     [39.0, 0.0, 1.0]   \n",
              "1                  129           9       10.0   [129.0, 9.0, 10.0]   \n",
              "2                  102          14        5.0   [102.0, 14.0, 5.0]   \n",
              "3                   39           4        3.0     [39.0, 4.0, 3.0]   \n",
              "4                   90          10        3.0    [90.0, 10.0, 3.0]   \n",
              "...                ...         ...        ...                  ...   \n",
              "1406               119          14        1.0   [119.0, 14.0, 1.0]   \n",
              "1407               190          21        5.0   [190.0, 21.0, 5.0]   \n",
              "1408                28           3        2.0     [28.0, 3.0, 2.0]   \n",
              "1409               108          11       10.0  [108.0, 11.0, 10.0]   \n",
              "1410                36           9       10.0    [36.0, 9.0, 10.0]   \n",
              "\n",
              "                                           standardized  prediction  \n",
              "0       [0.32564337906060153, 0.0, 0.15298704039665895]           1  \n",
              "1     [1.077128099969682, 0.6634266801199267, 1.5298...           1  \n",
              "2     [0.8516826836969579, 1.0319970579643303, 0.764...           1  \n",
              "3     [0.32564337906060153, 0.29485630227552295, 0.4...           1  \n",
              "4     [0.7514847209090805, 0.7371407556888074, 0.458...           1  \n",
              "...                                                 ...         ...  \n",
              "1406  [0.9936297976464509, 1.0319970579643303, 0.152...           1  \n",
              "1407  [1.5864677441413921, 1.5479955869464954, 0.764...           1  \n",
              "1408  [0.23379524650504727, 0.22114222670664221, 0.3...           1  \n",
              "1409  [0.9017816650908965, 0.8108548312576881, 1.529...           1  \n",
              "1410  [0.3005938883636322, 0.6634266801199267, 1.529...           1  \n",
              "\n",
              "[1411 rows x 6 columns]"
            ],
            "text/html": [
              "\n",
              "  <div id=\"df-c6106ab0-1b8b-4322-a71a-7a6f3e809970\">\n",
              "    <div class=\"colab-df-container\">\n",
              "      <div>\n",
              "<style scoped>\n",
              "    .dataframe tbody tr th:only-of-type {\n",
              "        vertical-align: middle;\n",
              "    }\n",
              "\n",
              "    .dataframe tbody tr th {\n",
              "        vertical-align: top;\n",
              "    }\n",
              "\n",
              "    .dataframe thead th {\n",
              "        text-align: right;\n",
              "    }\n",
              "</style>\n",
              "<table border=\"1\" class=\"dataframe\">\n",
              "  <thead>\n",
              "    <tr style=\"text-align: right;\">\n",
              "      <th></th>\n",
              "      <th>count_gameclicks</th>\n",
              "      <th>count_hits</th>\n",
              "      <th>avg_price</th>\n",
              "      <th>features</th>\n",
              "      <th>standardized</th>\n",
              "      <th>prediction</th>\n",
              "    </tr>\n",
              "  </thead>\n",
              "  <tbody>\n",
              "    <tr>\n",
              "      <th>0</th>\n",
              "      <td>39</td>\n",
              "      <td>0</td>\n",
              "      <td>1.0</td>\n",
              "      <td>[39.0, 0.0, 1.0]</td>\n",
              "      <td>[0.32564337906060153, 0.0, 0.15298704039665895]</td>\n",
              "      <td>1</td>\n",
              "    </tr>\n",
              "    <tr>\n",
              "      <th>1</th>\n",
              "      <td>129</td>\n",
              "      <td>9</td>\n",
              "      <td>10.0</td>\n",
              "      <td>[129.0, 9.0, 10.0]</td>\n",
              "      <td>[1.077128099969682, 0.6634266801199267, 1.5298...</td>\n",
              "      <td>1</td>\n",
              "    </tr>\n",
              "    <tr>\n",
              "      <th>2</th>\n",
              "      <td>102</td>\n",
              "      <td>14</td>\n",
              "      <td>5.0</td>\n",
              "      <td>[102.0, 14.0, 5.0]</td>\n",
              "      <td>[0.8516826836969579, 1.0319970579643303, 0.764...</td>\n",
              "      <td>1</td>\n",
              "    </tr>\n",
              "    <tr>\n",
              "      <th>3</th>\n",
              "      <td>39</td>\n",
              "      <td>4</td>\n",
              "      <td>3.0</td>\n",
              "      <td>[39.0, 4.0, 3.0]</td>\n",
              "      <td>[0.32564337906060153, 0.29485630227552295, 0.4...</td>\n",
              "      <td>1</td>\n",
              "    </tr>\n",
              "    <tr>\n",
              "      <th>4</th>\n",
              "      <td>90</td>\n",
              "      <td>10</td>\n",
              "      <td>3.0</td>\n",
              "      <td>[90.0, 10.0, 3.0]</td>\n",
              "      <td>[0.7514847209090805, 0.7371407556888074, 0.458...</td>\n",
              "      <td>1</td>\n",
              "    </tr>\n",
              "    <tr>\n",
              "      <th>...</th>\n",
              "      <td>...</td>\n",
              "      <td>...</td>\n",
              "      <td>...</td>\n",
              "      <td>...</td>\n",
              "      <td>...</td>\n",
              "      <td>...</td>\n",
              "    </tr>\n",
              "    <tr>\n",
              "      <th>1406</th>\n",
              "      <td>119</td>\n",
              "      <td>14</td>\n",
              "      <td>1.0</td>\n",
              "      <td>[119.0, 14.0, 1.0]</td>\n",
              "      <td>[0.9936297976464509, 1.0319970579643303, 0.152...</td>\n",
              "      <td>1</td>\n",
              "    </tr>\n",
              "    <tr>\n",
              "      <th>1407</th>\n",
              "      <td>190</td>\n",
              "      <td>21</td>\n",
              "      <td>5.0</td>\n",
              "      <td>[190.0, 21.0, 5.0]</td>\n",
              "      <td>[1.5864677441413921, 1.5479955869464954, 0.764...</td>\n",
              "      <td>1</td>\n",
              "    </tr>\n",
              "    <tr>\n",
              "      <th>1408</th>\n",
              "      <td>28</td>\n",
              "      <td>3</td>\n",
              "      <td>2.0</td>\n",
              "      <td>[28.0, 3.0, 2.0]</td>\n",
              "      <td>[0.23379524650504727, 0.22114222670664221, 0.3...</td>\n",
              "      <td>1</td>\n",
              "    </tr>\n",
              "    <tr>\n",
              "      <th>1409</th>\n",
              "      <td>108</td>\n",
              "      <td>11</td>\n",
              "      <td>10.0</td>\n",
              "      <td>[108.0, 11.0, 10.0]</td>\n",
              "      <td>[0.9017816650908965, 0.8108548312576881, 1.529...</td>\n",
              "      <td>1</td>\n",
              "    </tr>\n",
              "    <tr>\n",
              "      <th>1410</th>\n",
              "      <td>36</td>\n",
              "      <td>9</td>\n",
              "      <td>10.0</td>\n",
              "      <td>[36.0, 9.0, 10.0]</td>\n",
              "      <td>[0.3005938883636322, 0.6634266801199267, 1.529...</td>\n",
              "      <td>1</td>\n",
              "    </tr>\n",
              "  </tbody>\n",
              "</table>\n",
              "<p>1411 rows × 6 columns</p>\n",
              "</div>\n",
              "      <button class=\"colab-df-convert\" onclick=\"convertToInteractive('df-c6106ab0-1b8b-4322-a71a-7a6f3e809970')\"\n",
              "              title=\"Convert this dataframe to an interactive table.\"\n",
              "              style=\"display:none;\">\n",
              "        \n",
              "  <svg xmlns=\"http://www.w3.org/2000/svg\" height=\"24px\"viewBox=\"0 0 24 24\"\n",
              "       width=\"24px\">\n",
              "    <path d=\"M0 0h24v24H0V0z\" fill=\"none\"/>\n",
              "    <path d=\"M18.56 5.44l.94 2.06.94-2.06 2.06-.94-2.06-.94-.94-2.06-.94 2.06-2.06.94zm-11 1L8.5 8.5l.94-2.06 2.06-.94-2.06-.94L8.5 2.5l-.94 2.06-2.06.94zm10 10l.94 2.06.94-2.06 2.06-.94-2.06-.94-.94-2.06-.94 2.06-2.06.94z\"/><path d=\"M17.41 7.96l-1.37-1.37c-.4-.4-.92-.59-1.43-.59-.52 0-1.04.2-1.43.59L10.3 9.45l-7.72 7.72c-.78.78-.78 2.05 0 2.83L4 21.41c.39.39.9.59 1.41.59.51 0 1.02-.2 1.41-.59l7.78-7.78 2.81-2.81c.8-.78.8-2.07 0-2.86zM5.41 20L4 18.59l7.72-7.72 1.47 1.35L5.41 20z\"/>\n",
              "  </svg>\n",
              "      </button>\n",
              "      \n",
              "  <style>\n",
              "    .colab-df-container {\n",
              "      display:flex;\n",
              "      flex-wrap:wrap;\n",
              "      gap: 12px;\n",
              "    }\n",
              "\n",
              "    .colab-df-convert {\n",
              "      background-color: #E8F0FE;\n",
              "      border: none;\n",
              "      border-radius: 50%;\n",
              "      cursor: pointer;\n",
              "      display: none;\n",
              "      fill: #1967D2;\n",
              "      height: 32px;\n",
              "      padding: 0 0 0 0;\n",
              "      width: 32px;\n",
              "    }\n",
              "\n",
              "    .colab-df-convert:hover {\n",
              "      background-color: #E2EBFA;\n",
              "      box-shadow: 0px 1px 2px rgba(60, 64, 67, 0.3), 0px 1px 3px 1px rgba(60, 64, 67, 0.15);\n",
              "      fill: #174EA6;\n",
              "    }\n",
              "\n",
              "    [theme=dark] .colab-df-convert {\n",
              "      background-color: #3B4455;\n",
              "      fill: #D2E3FC;\n",
              "    }\n",
              "\n",
              "    [theme=dark] .colab-df-convert:hover {\n",
              "      background-color: #434B5C;\n",
              "      box-shadow: 0px 1px 3px 1px rgba(0, 0, 0, 0.15);\n",
              "      filter: drop-shadow(0px 1px 2px rgba(0, 0, 0, 0.3));\n",
              "      fill: #FFFFFF;\n",
              "    }\n",
              "  </style>\n",
              "\n",
              "      <script>\n",
              "        const buttonEl =\n",
              "          document.querySelector('#df-c6106ab0-1b8b-4322-a71a-7a6f3e809970 button.colab-df-convert');\n",
              "        buttonEl.style.display =\n",
              "          google.colab.kernel.accessAllowed ? 'block' : 'none';\n",
              "\n",
              "        async function convertToInteractive(key) {\n",
              "          const element = document.querySelector('#df-c6106ab0-1b8b-4322-a71a-7a6f3e809970');\n",
              "          const dataTable =\n",
              "            await google.colab.kernel.invokeFunction('convertToInteractive',\n",
              "                                                     [key], {});\n",
              "          if (!dataTable) return;\n",
              "\n",
              "          const docLinkHtml = 'Like what you see? Visit the ' +\n",
              "            '<a target=\"_blank\" href=https://colab.research.google.com/notebooks/data_table.ipynb>data table notebook</a>'\n",
              "            + ' to learn more about interactive tables.';\n",
              "          element.innerHTML = '';\n",
              "          dataTable['output_type'] = 'display_data';\n",
              "          await google.colab.output.renderOutput(dataTable, element);\n",
              "          const docLink = document.createElement('div');\n",
              "          docLink.innerHTML = docLinkHtml;\n",
              "          element.appendChild(docLink);\n",
              "        }\n",
              "      </script>\n",
              "    </div>\n",
              "  </div>\n",
              "  "
            ]
          },
          "metadata": {},
          "execution_count": 129
        }
      ]
    },
    {
      "cell_type": "code",
      "source": [
        "ax = px.scatter_3d(df, x='count_gameclicks', y='count_hits', z='avg_price', color='prediction', template='ggplot2')\n",
        "ax.show()"
      ],
      "metadata": {
        "colab": {
          "base_uri": "https://localhost:8080/",
          "height": 542
        },
        "id": "rbhjprbyUKam",
        "outputId": "7bcf1ca8-bf88-4bd5-d986-589708e8d8ef"
      },
      "execution_count": null,
      "outputs": [
        {
          "output_type": "display_data",
          "data": {
            "text/html": [
              "<html>\n",
              "<head><meta charset=\"utf-8\" /></head>\n",
              "<body>\n",
              "    <div>            <script src=\"https://cdnjs.cloudflare.com/ajax/libs/mathjax/2.7.5/MathJax.js?config=TeX-AMS-MML_SVG\"></script><script type=\"text/javascript\">if (window.MathJax && window.MathJax.Hub && window.MathJax.Hub.Config) {window.MathJax.Hub.Config({SVG: {font: \"STIX-Web\"}});}</script>                <script type=\"text/javascript\">window.PlotlyConfig = {MathJaxConfig: 'local'};</script>\n",
              "        <script src=\"https://cdn.plot.ly/plotly-2.18.2.min.js\"></script>                <div id=\"05be4ff6-1da5-49fd-b148-496f362444cc\" class=\"plotly-graph-div\" style=\"height:525px; width:100%;\"></div>            <script type=\"text/javascript\">                                    window.PLOTLYENV=window.PLOTLYENV || {};                                    if (document.getElementById(\"05be4ff6-1da5-49fd-b148-496f362444cc\")) {                    Plotly.newPlot(                        \"05be4ff6-1da5-49fd-b148-496f362444cc\",                        [{\"hovertemplate\":\"count_gameclicks=%{x}<br>count_hits=%{y}<br>avg_price=%{z}<br>prediction=%{marker.color}<extra></extra>\",\"legendgroup\":\"\",\"marker\":{\"color\":[1,1,1,1,1,1,1,1,1,1,1,1,1,1,1,1,1,1,1,1,1,1,1,1,1,1,1,1,1,1,1,1,1,1,1,1,1,1,1,1,1,1,1,1,1,1,1,1,1,1,1,1,1,1,1,1,1,0,1,1,1,1,1,1,1,1,1,1,1,1,1,1,1,1,1,1,1,1,1,1,1,1,1,1,1,1,1,1,1,1,1,1,1,1,1,1,1,1,1,1,1,1,1,1,1,1,1,1,1,1,1,1,1,1,1,1,1,1,1,1,1,1,1,1,1,0,1,1,1,1,1,1,1,1,1,1,1,1,0,1,0,1,1,1,1,0,0,1,1,1,1,1,1,1,1,1,1,1,1,1,1,1,1,1,1,1,1,1,1,1,1,1,1,1,1,0,0,1,1,1,1,1,1,1,1,1,1,1,1,1,1,1,1,1,1,1,1,1,1,1,1,1,1,1,1,1,1,1,1,1,1,1,1,1,1,1,1,1,1,1,1,1,1,1,1,1,1,1,1,1,1,1,0,1,1,1,1,1,1,1,1,1,1,1,1,1,1,1,1,1,1,0,0,1,0,0,0,0,1,1,1,1,1,1,1,1,1,1,1,1,1,1,1,1,1,1,1,1,1,1,1,1,1,1,1,1,1,1,1,1,1,1,1,1,1,1,1,0,1,1,1,1,1,1,1,1,1,1,1,1,1,1,1,1,1,1,1,1,1,1,1,1,1,1,1,1,1,1,1,1,1,1,1,1,1,1,1,1,1,1,1,1,1,1,1,1,1,1,1,1,1,1,1,1,1,1,1,1,1,1,1,1,1,1,1,1,1,1,1,0,1,1,1,1,1,1,1,1,0,0,1,1,1,1,1,1,1,1,1,1,1,1,1,1,1,1,1,1,1,0,0,0,1,1,0,0,1,1,1,0,0,0,0,1,0,1,0,1,1,1,1,1,0,1,1,1,1,0,1,0,0,0,0,1,1,0,1,1,1,1,1,1,1,1,1,1,1,1,1,1,1,1,1,1,1,1,1,1,1,1,1,1,1,1,1,1,1,1,1,1,1,1,1,1,1,1,1,1,1,1,0,0,0,1,1,1,1,1,1,1,1,1,1,1,1,1,1,1,1,1,1,1,1,1,1,1,1,1,1,1,1,1,1,1,1,1,1,1,1,1,1,1,1,1,1,1,1,1,1,1,1,1,1,1,1,1,1,1,1,1,1,1,1,1,1,1,1,1,1,1,1,1,1,1,1,1,1,1,1,1,1,1,1,1,1,1,1,0,0,1,1,1,1,1,1,1,1,1,1,0,0,1,1,1,1,1,1,1,1,1,1,1,1,1,1,1,1,1,1,1,1,1,1,1,0,0,1,1,1,1,1,1,0,0,1,1,1,1,0,0,0,1,0,0,0,1,1,0,1,0,1,0,1,1,0,1,1,1,0,0,0,1,1,1,1,1,0,0,1,1,1,1,1,1,0,0,1,0,1,1,0,0,1,0,0,0,0,0,1,0,1,1,1,0,0,1,0,1,0,0,0,1,1,1,1,1,1,1,1,1,1,1,1,1,1,1,1,1,1,1,1,1,1,1,1,1,1,1,1,1,1,1,1,1,1,1,1,1,1,1,1,1,1,1,1,1,1,1,1,1,1,1,1,1,1,1,1,1,1,1,1,1,0,0,1,1,1,1,1,1,1,1,1,1,1,1,1,1,1,1,1,1,1,1,1,1,1,1,1,1,1,1,1,1,1,1,1,1,1,1,1,1,1,1,1,1,1,1,1,1,1,1,1,1,1,1,1,1,1,1,1,1,1,1,1,1,1,1,1,1,1,1,1,1,1,1,1,1,1,1,1,1,1,1,1,1,1,1,1,1,1,1,1,1,1,1,1,1,1,1,1,1,1,1,1,1,1,0,1,1,1,1,1,1,1,1,1,1,1,1,1,1,0,1,1,1,1,1,1,1,1,1,1,1,1,1,1,1,1,1,1,1,1,1,1,1,1,1,1,1,1,1,0,1,0,0,1,0,1,0,1,1,1,0,1,0,1,1,1,0,0,1,1,0,1,1,0,1,1,0,0,1,1,1,1,1,1,1,1,1,1,0,0,0,0,0,0,0,0,0,0,0,0,1,0,1,1,0,0,0,1,1,0,0,0,1,1,1,0,0,0,1,1,1,0,1,0,1,1,0,0,0,1,1,0,1,1,1,1,1,1,1,0,0,1,1,1,1,1,1,1,1,1,1,1,1,1,1,1,1,1,1,1,1,1,1,1,1,1,1,1,1,1,1,1,1,1,1,1,1,1,1,1,1,1,1,1,1,1,1,1,1,1,1,1,1,1,1,1,1,1,1,1,1,1,1,1,1,1,1,1,1,0,0,0,1,1,1,1,1,1,1,1,1,1,1,1,1,1,1,1,1,1,1,1,1,1,1,1,1,1,1,1,1,1,1,1,1,1,1,1,1,1,1,1,1,1,1,1,1,1,1,1,1,1,1,1,1,1,1,1,1,1,1,1,1,1,1,1,1,1,1,1,1,1,1,1,1,1,1,1,1,1,1,1,1,1,1,1,1,1,1,1,1,1,1,1,1,1,1,1,1,1,1,1,1,1,1,1,1,1,1,1,1,1,1,1,1,1,1,1,1,1,1,1,1,1,1,1,1,1,1,1,1,1,1,1,1,1,1,1,1,1,1,1,1,1,1,1,1,1,1,1,1,1,1,1,1,1,1,1,1,1,1,0,1,1,1,1,1,1,1,1,1,1,1,1,1,1,1,1,1,1,1,1,1,1,1,1,1,1,0,1,1,1,1,1,0,0,1,1,0,1,1,1,1,1,1,1,0,0,1,1,0,0,1,1,1,1,1,1,1,1,1,1,1,1,0,0,0,0,1,1,0,1,1,0,0,1,1,1,1,1,1,0,1,1,1,1,1,0,1,0,0,1,0,0,0,0,0,1,0,0,1,0,0,0,1,1,0,0,1,1,1,1,1,1,1,0,0,1,1,0,1,1,0,1,1,0,0,0,1,1,1,1,0,0,0,0,0,1,0,0,1,1,1,1,1,1,1,1,1,1,1,1,1,1,1,1,1,1,1,1,1,0,0,1,1,1,0,1,1,1,1,1,1,0,0,1,1,1,1,0,0,0,1,1,1,1,1,0,0,1,1,1,0,1,1,1,1,1],\"coloraxis\":\"coloraxis\",\"symbol\":\"circle\"},\"mode\":\"markers\",\"name\":\"\",\"scene\":\"scene\",\"showlegend\":false,\"x\":[39,129,102,39,90,51,51,47,46,41,47,76,52,62,177,54,27,37,67,37,75,71,81,52,51,40,58,54,38,32,32,191,45,46,53,46,57,49,24,36,80,192,178,87,52,121,89,41,71,34,74,66,43,27,272,79,54,646,8,36,22,132,196,71,70,66,66,52,42,47,53,144,158,49,56,46,39,137,36,27,32,43,180,41,48,59,55,58,41,63,69,92,101,30,36,43,68,65,67,62,119,114,120,111,97,117,107,39,39,35,21,32,123,199,139,157,93,112,103,94,67,83,97,110,88,235,95,75,101,57,70,201,62,102,71,83,84,93,321,189,546,110,117,17,19,588,656,147,59,52,40,57,44,108,119,123,123,115,53,158,157,43,38,40,28,53,34,224,85,65,74,83,79,79,71,249,289,59,65,75,80,60,56,82,84,87,94,94,94,103,106,33,42,49,47,40,45,90,93,95,76,81,116,103,106,113,99,148,125,66,50,61,58,62,48,53,107,90,108,98,117,128,123,94,82,104,96,70,87,99,77,80,262,109,86,97,144,142,123,127,132,63,59,78,93,98,116,99,102,86,93,366,372,23,343,350,322,776,100,96,104,201,63,62,71,57,72,77,129,126,82,83,107,56,71,73,63,67,57,61,58,144,42,43,49,44,29,45,196,188,71,80,80,84,84,88,82,358,78,68,73,79,60,82,75,83,84,153,22,155,115,108,97,54,50,35,53,43,50,50,117,83,83,96,110,137,156,128,107,123,140,116,135,103,118,120,50,49,58,60,58,57,47,52,82,98,94,96,83,91,97,145,140,148,146,96,119,104,108,116,107,112,101,66,72,80,93,127,103,340,112,112,108,136,114,110,113,122,374,397,122,110,157,167,176,73,83,82,91,100,88,107,84,105,105,129,146,135,149,620,793,792,95,91,392,389,207,45,75,409,544,982,270,59,829,51,357,76,207,206,182,240,965,43,174,140,18,504,154,328,261,438,462,102,193,687,111,113,108,153,125,153,104,87,95,100,94,129,150,141,163,141,89,99,50,61,63,57,46,54,53,119,126,59,44,43,45,49,49,41,168,177,166,94,87,80,74,78,88,80,258,347,310,60,74,74,82,57,63,107,104,109,156,163,173,173,173,110,105,121,121,130,124,97,57,69,57,40,60,51,46,56,50,99,91,99,95,109,92,91,114,107,115,109,125,103,110,91,120,116,104,146,142,155,70,61,74,73,62,82,82,80,115,107,114,107,118,103,153,163,137,130,216,205,111,106,101,104,102,90,86,76,96,97,113,94,103,423,405,116,117,158,104,88,101,122,110,135,121,441,478,99,107,106,162,63,157,84,106,93,94,100,89,98,98,104,91,101,115,91,110,90,113,208,481,516,63,195,192,177,185,112,329,561,183,208,93,104,470,349,310,113,486,412,298,41,135,688,145,481,80,284,46,211,685,56,12,212,513,222,331,82,132,139,131,128,764,406,270,137,28,72,39,41,327,348,48,576,39,117,388,361,14,333,281,279,404,925,109,293,197,185,10,387,404,27,315,206,349,507,392,142,35,124,158,160,140,156,89,89,111,93,100,111,88,146,142,150,156,93,101,95,88,70,64,73,60,65,76,63,64,111,100,129,126,98,114,44,43,61,52,54,42,49,46,59,47,153,172,155,89,79,97,91,78,77,70,92,85,75,82,198,306,333,76,82,89,91,81,78,103,90,90,100,88,111,106,113,122,112,146,139,149,175,172,144,112,136,148,141,59,67,61,84,59,59,72,83,96,100,107,114,102,98,97,122,114,129,125,140,142,141,133,156,123,128,135,127,150,146,133,169,171,136,136,75,85,78,66,66,68,69,60,77,95,90,121,106,124,163,161,122,136,146,154,150,141,142,93,92,86,66,88,74,79,81,78,86,124,120,83,93,92,69,117,113,110,235,235,119,116,109,98,108,111,100,109,76,152,167,147,124,304,147,44,140,140,185,218,180,183,188,200,79,88,79,84,94,120,120,103,113,91,113,95,142,131,105,158,78,136,169,354,202,572,274,198,221,232,306,220,217,217,285,83,312,36,161,86,534,525,99,73,270,156,150,516,50,86,326,320,130,109,125,123,105,115,128,174,137,109,334,314,357,331,343,752,312,280,307,330,299,308,50,310,57,82,339,370,490,128,263,262,299,294,195,217,144,456,420,249,16,216,213,672,219,523,25,15,484,472,385,193,199,281,136,13,202,182,177,163,163,403,293,237,154,123,124,115,115,143,161,130,134,148,156,85,94,96,86,115,109,86,107,90,147,163,180,168,102,89,91,118,99,91,91,83,72,57,75,84,65,76,59,112,102,96,108,99,96,110,105,58,44,45,50,50,50,62,139,113,140,134,105,108,107,98,102,103,90,108,98,280,291,276,74,74,88,88,62,84,68,64,65,72,83,140,130,108,102,122,110,140,137,165,165,114,104,117,114,120,124,92,102,118,91,82,89,77,91,72,74,84,91,95,112,109,107,104,95,114,115,92,90,114,124,121,136,125,102,101,112,99,104,83,169,182,159,202,170,158,175,185,179,74,92,91,84,78,105,63,91,87,69,86,80,84,110,102,83,89,105,79,84,102,166,192,131,113,118,112,126,123,101,108,96,99,76,94,102,101,92,113,106,86,99,104,111,109,111,99,92,123,121,114,110,129,131,143,106,134,128,250,244,211,262,115,109,118,102,122,108,113,123,103,111,110,110,145,134,157,141,136,136,137,101,198,176,218,191,192,191,164,154,226,207,202,194,190,87,80,96,89,104,105,111,106,100,116,106,100,113,113,119,101,104,103,104,120,131,132,210,216,197,195,181,185,303,280,170,171,317,161,140,157,134,151,169,126,388,394,133,194,249,296,96,22,95,196,202,189,182,158,141,145,99,129,361,351,356,338,95,97,296,87,87,293,436,194,201,198,202,231,242,327,100,76,213,216,218,313,196,372,283,255,305,314,258,280,325,193,321,301,50,414,388,388,19,171,349,332,64,136,165,131,116,134,145,328,293,42,245,281,123,66,226,231,207,386,405,400,160,186,170,184,417,406,293,290,277,74,359,432,164,36,111,119,69,182,208,207,218,184,186,178,221,41,50,107,136,134,121,126,33,417,426,33,185,72,266,59,164,181,187,171,74,353,331,76,243,233,115,706,335,316,115,6,148,78,215,482,384,105,171,206,741,119,190,28,108,36],\"y\":[0,9,14,4,10,8,6,5,7,6,7,7,2,9,25,5,4,2,5,5,5,9,12,10,9,3,1,6,3,3,2,18,6,3,9,7,2,3,3,6,6,16,22,14,5,16,7,5,16,3,10,12,4,4,24,9,4,54,1,2,1,16,23,5,13,7,5,11,6,7,2,22,11,8,7,3,2,14,3,1,5,5,24,5,5,8,7,3,7,4,11,11,13,3,5,1,9,14,4,3,10,10,8,16,8,12,11,1,7,1,2,2,12,28,17,22,9,10,18,7,7,12,9,7,7,30,11,4,14,7,10,23,11,7,7,11,11,11,37,24,64,20,10,1,2,80,64,20,10,6,5,4,6,16,8,13,14,9,6,6,11,8,2,3,4,5,2,20,9,6,7,5,7,6,6,31,35,7,5,10,9,9,7,8,11,7,14,17,15,11,14,2,4,3,8,4,3,7,9,9,14,12,14,18,10,9,9,18,16,3,6,9,10,5,7,12,8,8,9,11,12,12,14,12,5,16,12,6,9,13,9,5,31,13,10,16,23,24,14,17,14,7,8,11,9,7,10,12,15,11,8,34,47,3,51,42,42,79,12,11,17,24,4,8,9,5,8,7,15,23,6,8,8,6,6,5,13,4,6,11,8,14,6,6,2,5,3,7,19,22,6,7,7,9,13,15,5,52,13,13,6,12,9,5,11,12,9,15,1,22,17,9,13,4,12,5,4,2,6,11,11,6,9,9,14,19,17,6,8,23,16,15,15,13,11,17,3,7,4,10,7,9,7,2,10,8,13,7,7,8,12,27,20,18,17,10,15,18,12,15,9,13,13,10,8,10,7,13,9,43,10,14,7,16,14,17,18,21,36,48,19,13,13,20,16,9,5,11,11,11,14,11,8,16,16,9,10,8,12,64,64,76,10,13,27,43,22,6,6,42,64,94,35,8,81,12,37,8,24,20,31,30,99,2,16,13,2,64,15,35,31,52,55,15,24,81,18,18,10,21,21,15,9,15,9,11,6,15,18,20,16,16,8,15,5,6,6,8,8,8,10,14,7,8,6,3,4,5,7,5,23,21,17,13,10,10,5,6,7,16,36,53,34,7,12,9,14,9,10,12,10,12,16,12,16,17,25,12,9,14,17,12,11,12,8,3,6,7,13,7,6,6,6,15,6,11,15,13,11,11,14,13,11,21,19,14,17,11,15,18,16,17,13,14,5,9,8,7,4,7,12,6,14,17,15,14,12,7,19,19,10,10,26,25,10,16,9,8,15,18,6,12,9,9,12,10,16,45,32,11,12,21,15,15,6,9,15,8,19,44,59,12,12,14,18,7,18,9,10,8,8,15,11,13,8,6,8,12,14,11,12,10,9,23,45,55,10,20,18,19,13,12,41,64,26,32,13,11,44,44,39,12,51,41,35,4,17,81,16,53,12,43,5,23,78,3,1,23,60,34,34,7,12,14,17,15,81,41,19,16,4,10,5,4,27,38,6,52,1,12,50,33,2,38,31,32,41,100,11,33,29,25,1,40,54,2,41,15,34,46,38,18,1,11,10,24,14,22,10,6,8,12,13,14,3,17,18,28,16,11,18,12,11,7,7,12,12,10,10,3,11,20,15,17,13,14,11,3,4,5,5,9,4,10,4,6,2,20,23,15,10,14,13,17,8,16,14,12,12,9,9,21,42,39,11,13,6,8,10,7,19,14,7,7,7,13,12,17,14,11,14,15,16,11,15,15,11,17,20,11,3,16,5,9,8,7,6,15,13,15,11,16,11,10,10,12,15,18,15,16,14,19,12,9,20,19,11,15,18,13,15,22,20,12,18,7,11,7,10,4,9,5,11,9,12,10,18,13,15,24,19,14,22,24,21,15,12,11,12,11,11,8,14,9,6,13,10,11,16,15,14,14,12,11,15,15,15,38,26,13,11,10,19,9,9,17,16,16,28,24,21,26,38,18,6,11,12,28,29,30,17,17,29,9,14,11,10,6,11,15,15,18,16,10,13,14,14,12,15,5,14,30,37,25,68,31,16,35,21,43,26,23,19,40,11,45,5,25,9,63,63,9,8,31,18,13,59,3,9,34,29,17,13,16,27,7,15,13,17,19,13,37,32,38,61,39,99,38,25,47,47,23,26,5,24,9,10,39,44,63,14,26,35,31,24,17,27,21,50,52,29,3,22,29,74,24,64,4,4,61,49,37,28,26,44,23,5,22,16,16,24,18,39,34,27,19,19,18,16,11,14,21,20,17,14,14,6,9,17,7,15,13,9,14,11,29,16,24,18,22,13,10,14,13,10,6,15,8,11,13,9,7,8,13,11,18,9,12,11,18,11,16,12,3,3,6,9,5,10,22,18,18,21,11,14,20,11,4,16,9,12,15,42,32,35,8,6,12,8,8,13,11,10,7,11,6,22,18,12,18,10,15,21,19,24,27,20,12,13,17,15,16,12,12,5,8,10,11,6,16,7,5,11,7,13,14,15,20,18,14,10,9,14,5,17,12,17,19,18,21,28,18,10,14,8,27,21,7,20,17,15,27,23,16,6,14,12,12,10,10,8,7,10,8,9,12,13,23,23,5,11,20,8,11,11,20,29,19,16,13,12,14,16,15,19,6,9,8,11,12,9,12,13,13,7,13,8,13,13,20,16,6,9,14,11,7,14,15,16,9,15,17,28,17,26,23,19,10,17,11,12,12,14,21,16,9,17,14,17,19,16,15,20,16,19,8,30,25,24,24,28,25,20,20,32,28,22,19,20,15,7,14,7,10,16,11,13,12,7,16,11,11,7,10,16,12,12,9,13,15,11,36,32,22,27,26,17,47,31,20,17,39,20,11,13,24,18,17,14,38,58,12,18,36,27,12,4,10,20,23,15,23,11,19,11,9,19,47,26,32,27,15,12,30,8,6,47,49,25,19,18,12,30,24,40,5,7,26,25,24,37,23,53,32,21,29,42,27,34,36,17,34,24,2,39,34,53,2,16,28,44,6,18,20,19,18,19,21,42,27,7,26,34,11,6,33,25,24,58,41,42,18,25,21,23,48,45,35,38,31,10,37,48,12,3,8,16,9,16,22,29,26,12,19,25,26,8,9,27,19,18,9,12,3,42,43,5,19,10,32,4,23,15,22,25,10,33,36,2,24,29,16,75,30,34,14,2,14,8,24,56,42,15,20,25,64,14,21,3,11,9],\"z\":[1.0,10.0,5.0,3.0,3.0,20.0,2.5,2.0,1.0,20.0,3.0,20.0,3.0,3.0,7.5,10.0,4.0,20.0,1.0,11.5,20.0,11.5,5.0,20.0,1.0,20.0,3.0,20.0,20.0,20.0,10.0,11.5,15.0,10.0,3.0,2.0,10.0,5.0,20.0,20.0,3.0,2.0,1.0,3.0,15.0,1.0,10.0,1.0,20.0,1.0,1.0,3.0,10.0,5.0,3.0,3.0,1.0,3.0,3.0,20.0,10.0,20.0,2.0,5.0,3.0,3.0,6.0,7.5,3.0,1.0,12.5,15.0,20.0,5.0,2.0,20.0,1.0,5.0,1.5,2.0,11.5,2.0,20.0,2.0,5.0,2.0,5.0,20.0,20.0,3.0,10.0,3.0,20.0,2.0,20.0,3.0,6.5,15.0,3.0,1.0,1.0,3.0,3.0,16.67,20.0,2.0,3.0,3.0,3.0,3.0,1.0,20.0,5.5,10.0,1.0,15.0,20.0,1.0,1.0,1.5,20.0,1.0,7.5,3.0,1.0,1.0,1.0,10.0,3.0,1.0,2.0,20.0,10.0,1.0,5.0,5.0,3.0,2.0,3.0,20.0,1.0,3.0,2.0,10.0,20.0,1.0,1.0,11.5,20.0,1.0,3.0,2.0,2.5,16.67,1.0,3.0,5.0,3.0,3.0,3.0,2.0,5.0,20.0,12.5,4.0,3.5,3.0,2.0,2.0,20.0,2.0,1.0,3.0,11.0,20.0,1.0,15.0,11.0,5.0,1.0,2.0,15.0,1.0,20.0,3.0,3.0,10.0,3.0,1.0,1.0,2.67,12.5,3.0,12.5,20.0,3.0,3.5,10.0,20.0,20.0,1.0,3.0,20.0,5.0,3.0,1.0,1.0,5.0,3.0,1.0,3.0,3.0,1.0,20.0,10.0,2.0,5.33,10.0,3.0,10.0,15.0,1.0,3.0,10.0,1.5,3.0,1.0,15.0,3.0,1.0,20.0,1.0,1.0,3.0,20.0,3.0,15.0,11.0,20.0,20.0,3.0,1.0,3.0,5.0,3.0,6.5,2.5,20.0,3.0,20.0,11.5,7.5,5.0,2.5,20.0,3.0,12.5,20.0,5.0,1.0,3.0,3.0,2.5,20.0,3.0,3.0,5.0,3.0,6.5,10.0,15.0,11.5,2.0,15.0,3.0,2.0,1.0,2.0,3.0,6.0,1.0,2.5,5.0,3.0,5.0,3.0,1.5,2.0,10.0,20.0,16.67,20.0,1.0,20.0,2.0,1.0,2.0,15.0,7.5,3.0,1.0,20.0,1.0,15.0,2.0,20.0,3.0,5.0,5.0,20.0,20.0,3.0,1.0,3.0,15.0,2.5,5.0,5.0,20.0,10.0,10.0,5.0,3.0,12.5,3.0,20.0,20.0,15.0,15.0,15.0,20.0,15.0,1.5,4.0,3.0,2.0,3.0,3.0,2.0,7.5,1.0,3.0,1.0,1.0,1.5,20.0,1.0,15.0,7.5,1.0,3.0,5.0,20.0,3.0,1.0,2.0,1.0,1.0,5.0,20.0,3.0,20.0,2.0,1.0,10.0,2.67,3.0,1.0,1.33,10.0,1.0,6.0,2.33,2.0,10.0,2.0,3.5,2.0,6.0,10.0,5.0,3.0,5.0,20.0,2.0,3.0,1.0,3.0,10.0,10.0,2.0,3.0,1.0,2.0,5.0,3.0,5.0,5.0,10.0,2.0,3.0,3.0,20.0,11.0,5.0,3.0,5.0,5.0,10.0,1.0,10.0,20.0,4.0,3.0,3.0,3.0,10.0,20.0,3.0,2.0,11.67,15.0,1.0,20.0,3.0,1.0,20.0,5.0,20.0,3.0,15.0,10.0,1.0,5.0,2.0,1.0,15.0,1.0,3.0,20.0,20.0,10.0,1.0,1.0,3.5,15.0,2.5,11.0,12.5,10.0,1.67,3.33,7.5,3.0,2.0,11.75,11.0,2.0,3.0,5.0,1.0,1.0,11.0,1.0,12.5,11.5,20.0,10.0,1.0,3.0,20.0,3.0,10.0,3.0,10.0,1.0,3.0,10.0,20.0,3.67,1.67,5.0,10.0,20.0,1.0,1.0,10.0,1.0,16.67,5.0,10.0,3.0,3.0,1.0,2.0,3.0,20.0,12.5,3.0,2.0,1.0,2.5,3.0,3.0,2.0,15.0,11.5,2.5,1.0,16.67,5.0,3.0,3.5,5.0,3.0,20.0,20.0,10.0,3.0,3.67,7.5,1.0,15.0,20.0,17.5,3.0,20.0,1.0,20.0,6.5,2.0,2.67,9.0,1.5,3.0,2.0,12.5,5.0,2.0,20.0,10.0,16.67,1.0,14.33,9.0,20.0,1.67,3.0,7.33,12.5,1.25,10.0,15.0,1.0,20.0,1.0,2.0,20.0,15.0,20.0,2.0,3.0,3.0,3.0,1.5,1.0,20.0,20.0,1.5,1.0,20.0,3.0,1.0,3.0,1.0,1.0,10.0,4.33,20.0,10.0,20.0,20.0,10.0,20.0,20.0,10.0,20.0,10.0,3.0,15.0,1.0,20.0,3.0,1.0,15.0,2.5,2.0,3.0,10.0,5.0,1.0,3.0,4.0,3.0,3.0,2.0,2.0,3.0,3.0,2.5,3.0,1.0,1.0,1.0,3.0,15.0,11.67,11.5,5.0,1.0,20.0,15.0,20.0,3.0,1.0,3.0,4.0,5.0,11.67,20.0,15.0,3.0,3.0,10.0,20.0,3.0,3.0,11.5,5.0,10.0,4.0,2.0,11.5,15.0,3.0,3.0,1.0,3.0,20.0,3.0,10.0,5.0,10.0,20.0,5.0,1.0,3.0,1.0,5.0,3.0,3.0,3.0,10.0,7.5,7.5,3.5,3.0,15.0,1.0,3.0,2.0,3.0,1.0,2.0,16.67,10.0,5.0,20.0,10.0,1.0,3.0,8.33,1.0,1.5,11.0,20.0,15.0,20.0,1.0,3.5,3.0,11.5,10.67,2.0,2.5,20.0,5.0,10.0,12.5,9.0,5.0,13.0,3.0,12.5,3.0,16.67,5.0,3.0,3.0,1.5,1.0,1.0,15.0,3.0,5.0,2.0,10.0,2.0,5.0,12.5,11.67,3.0,10.0,4.0,1.67,3.67,2.5,3.0,20.0,2.75,3.0,6.0,20.0,20.0,1.25,14.4,3.25,20.0,10.0,2.0,5.33,3.0,10.0,3.0,11.67,10.0,1.0,20.0,1.0,3.0,15.0,3.67,1.0,4.0,1.0,3.0,10.0,2.0,10.0,1.0,3.0,1.0,15.0,3.0,11.67,20.0,4.67,5.5,5.0,15.0,20.0,3.0,2.0,1.0,3.0,2.0,1.5,10.5,12.5,3.0,10.0,20.0,3.0,1.33,2.0,10.0,12.5,1.0,20.0,13.33,4.0,5.0,1.0,12.5,20.0,20.0,1.0,2.0,20.0,12.5,3.0,3.0,13.33,2.0,5.0,3.0,11.5,2.0,10.0,1.0,3.0,1.0,5.0,10.0,11.0,3.0,7.5,20.0,2.5,3.0,20.0,2.33,10.0,1.0,9.0,3.0,1.5,3.67,3.0,1.0,1.0,1.0,3.0,1.0,20.0,20.0,2.33,2.0,5.0,1.0,10.0,5.5,3.5,11.5,1.0,1.0,3.0,11.5,3.0,1.0,15.0,2.0,10.0,2.0,20.0,20.0,1.0,5.0,10.0,2.0,20.0,12.5,16.67,4.0,20.0,20.0,5.0,10.0,20.0,3.0,16.67,1.0,15.0,1.0,20.0,3.0,6.0,5.0,2.5,5.0,2.33,2.0,20.0,1.0,5.0,10.0,9.33,11.25,10.0,2.0,2.0,10.0,20.0,1.0,15.0,5.0,11.0,5.0,3.0,1.0,15.0,4.0,2.0,3.0,3.0,20.0,2.0,1.0,11.5,6.5,11.5,6.5,2.67,20.0,20.0,3.0,1.0,2.0,5.0,10.0,5.0,2.0,20.0,10.0,10.0,8.67,2.5,16.67,3.0,3.0,16.67,3.0,3.0,10.0,12.5,3.0,3.0,2.0,2.0,1.0,10.0,1.0,2.0,10.0,3.0,3.0,5.0,10.0,1.0,1.0,2.0,6.5,16.67,2.0,2.5,11.5,20.0,1.0,1.5,11.0,1.0,3.0,1.0,5.0,3.0,20.0,1.0,3.0,5.5,20.0,3.0,11.75,11.5,3.0,10.0,1.0,2.0,20.0,11.5,1.0,20.0,20.0,2.0,1.0,12.5,2.0,20.0,2.0,10.0,3.0,6.5,20.0,5.0,3.0,20.0,3.0,3.33,11.0,2.33,3.0,5.0,12.5,1.5,2.0,6.0,11.67,15.0,7.33,5.5,10.0,4.0,3.0,2.0,2.0,12.5,3.0,10.0,3.0,10.0,3.0,2.0,3.0,8.0,1.0,5.75,16.67,3.0,7.67,3.0,11.67,20.0,13.75,1.0,20.0,7.5,20.0,10.0,5.75,3.0,2.33,10.0,3.0,15.0,3.0,8.75,20.0,10.0,1.0,20.0,12.5,5.0,1.0,5.0,1.0,3.0,20.0,3.0,1.0,1.0,20.0,5.0,2.0,2.0,3.0,1.0,3.0,2.0,15.0,1.0,11.5,7.67,1.0,3.0,3.0,2.0,20.0,10.0,3.0,1.0,1.0,2.5,1.0,4.0,20.0,3.0,6.0,11.5,20.0,1.0,1.5,5.0,3.0,3.0,4.0,15.0,3.0,10.0,12.5,1.5,17.5,5.0,1.0,3.0,20.0,7.5,10.0,1.0,10.0,20.0,15.0,11.67,11.5,20.0,1.0,7.67,20.0,20.0,1.0,3.5,2.5,5.0,20.0,1.25,2.5,4.0,2.6,7.5,5.0,1.0,3.0,12.5,1.0,20.0,20.0,20.0,1.0,1.0,1.0,20.0,2.0,10.0,20.0,1.0,1.0,9.25,1.6,7.5,10.0,12.5,1.67,1.5,2.4,1.5,13.33,1.0,3.0,2.5,1.0,1.25,1.0,20.0,1.0,7.5,11.67,3.0,3.0,3.0,1.0,10.0,2.0,4.0,1.0,20.0,1.0,20.0,3.0,2.33,2.33,6.5,1.0,1.5,6.0,20.0,1.0,5.25,3.0,1.0,2.0,11.5,20.0,20.0,4.67,3.0,2.0,20.0,1.0,9.33,20.0,1.5,10.0,6.5,3.0,15.0,12.5,15.0,1.0,6.8,7.5,3.0,10.0,3.0,1.0,13.33,5.25,5.0,3.0,11.25,3.0,3.5,20.0,1.0,7.5,1.0,15.0,2.5,1.5,15.0,5.0,3.33,2.0,3.0,1.25,2.0,5.0,20.0,1.5,20.0,3.0,3.0,10.0,1.67,3.0,11.0,12.5,10.0,3.5,3.0,15.0,10.0,3.0,1.0,5.0,3.0,2.0,5.17,20.0,10.0,6.67,3.0,1.0,3.0,1.75,1.0,13.75,7.33,3.0,10.0,20.0,20.0,3.0,10.5,11.0,10.0,11.5,1.5,15.0,10.0,3.0,1.0,3.0,6.25,10.0,3.0,2.0,5.0,2.0,4.6,2.33,16.67,3.0,1.0,5.0,3.0,5.0,11.25,10.0,9.33,3.0,3.0,5.0,20.0,2.0,20.0,7.5,14.0,1.0,5.0,1.0,15.0,3.0,20.0,4.0,12.5,3.0,2.0,11.5,1.0,3.0,5.0,1.0,2.0,10.0,1.0,10.0,2.0,4.2,3.0,3.0,3.0,3.0,2.5,10.0,20.0,20.0,20.0,3.0,6.25,20.0,2.0,3.0,2.67,2.0,20.0,10.5,20.0,3.0,3.0,1.0,20.0,20.0,20.0,4.0,5.33,3.0,10.5,1.0,5.0,3.0,1.75,6.0,9.0,10.0,2.0,11.5,2.5,13.33,20.0,1.0,7.5,20.0,6.0,12.5,10.0,3.0,1.0,3.0,20.0,1.0,2.0,1.0,10.0,1.75,6.5,1.33,5.0,5.0,1.0,2.0,5.0,3.0,10.5,15.0,1.0,5.0,2.0,1.0,20.0,3.0,1.0,2.0,1.0,1.0,3.0,10.0,3.0,2.0,1.0,5.0,2.0,10.0,10.0],\"type\":\"scatter3d\"}],                        {\"template\":{\"data\":{\"barpolar\":[{\"marker\":{\"line\":{\"color\":\"rgb(237,237,237)\",\"width\":0.5},\"pattern\":{\"fillmode\":\"overlay\",\"size\":10,\"solidity\":0.2}},\"type\":\"barpolar\"}],\"bar\":[{\"error_x\":{\"color\":\"rgb(51,51,51)\"},\"error_y\":{\"color\":\"rgb(51,51,51)\"},\"marker\":{\"line\":{\"color\":\"rgb(237,237,237)\",\"width\":0.5},\"pattern\":{\"fillmode\":\"overlay\",\"size\":10,\"solidity\":0.2}},\"type\":\"bar\"}],\"carpet\":[{\"aaxis\":{\"endlinecolor\":\"rgb(51,51,51)\",\"gridcolor\":\"white\",\"linecolor\":\"white\",\"minorgridcolor\":\"white\",\"startlinecolor\":\"rgb(51,51,51)\"},\"baxis\":{\"endlinecolor\":\"rgb(51,51,51)\",\"gridcolor\":\"white\",\"linecolor\":\"white\",\"minorgridcolor\":\"white\",\"startlinecolor\":\"rgb(51,51,51)\"},\"type\":\"carpet\"}],\"choropleth\":[{\"colorbar\":{\"outlinewidth\":0,\"tickcolor\":\"rgb(237,237,237)\",\"ticklen\":6,\"ticks\":\"inside\"},\"type\":\"choropleth\"}],\"contourcarpet\":[{\"colorbar\":{\"outlinewidth\":0,\"tickcolor\":\"rgb(237,237,237)\",\"ticklen\":6,\"ticks\":\"inside\"},\"type\":\"contourcarpet\"}],\"contour\":[{\"colorbar\":{\"outlinewidth\":0,\"tickcolor\":\"rgb(237,237,237)\",\"ticklen\":6,\"ticks\":\"inside\"},\"colorscale\":[[0,\"rgb(20,44,66)\"],[1,\"rgb(90,179,244)\"]],\"type\":\"contour\"}],\"heatmapgl\":[{\"colorbar\":{\"outlinewidth\":0,\"tickcolor\":\"rgb(237,237,237)\",\"ticklen\":6,\"ticks\":\"inside\"},\"colorscale\":[[0,\"rgb(20,44,66)\"],[1,\"rgb(90,179,244)\"]],\"type\":\"heatmapgl\"}],\"heatmap\":[{\"colorbar\":{\"outlinewidth\":0,\"tickcolor\":\"rgb(237,237,237)\",\"ticklen\":6,\"ticks\":\"inside\"},\"colorscale\":[[0,\"rgb(20,44,66)\"],[1,\"rgb(90,179,244)\"]],\"type\":\"heatmap\"}],\"histogram2dcontour\":[{\"colorbar\":{\"outlinewidth\":0,\"tickcolor\":\"rgb(237,237,237)\",\"ticklen\":6,\"ticks\":\"inside\"},\"colorscale\":[[0,\"rgb(20,44,66)\"],[1,\"rgb(90,179,244)\"]],\"type\":\"histogram2dcontour\"}],\"histogram2d\":[{\"colorbar\":{\"outlinewidth\":0,\"tickcolor\":\"rgb(237,237,237)\",\"ticklen\":6,\"ticks\":\"inside\"},\"colorscale\":[[0,\"rgb(20,44,66)\"],[1,\"rgb(90,179,244)\"]],\"type\":\"histogram2d\"}],\"histogram\":[{\"marker\":{\"pattern\":{\"fillmode\":\"overlay\",\"size\":10,\"solidity\":0.2}},\"type\":\"histogram\"}],\"mesh3d\":[{\"colorbar\":{\"outlinewidth\":0,\"tickcolor\":\"rgb(237,237,237)\",\"ticklen\":6,\"ticks\":\"inside\"},\"type\":\"mesh3d\"}],\"parcoords\":[{\"line\":{\"colorbar\":{\"outlinewidth\":0,\"tickcolor\":\"rgb(237,237,237)\",\"ticklen\":6,\"ticks\":\"inside\"}},\"type\":\"parcoords\"}],\"pie\":[{\"automargin\":true,\"type\":\"pie\"}],\"scatter3d\":[{\"line\":{\"colorbar\":{\"outlinewidth\":0,\"tickcolor\":\"rgb(237,237,237)\",\"ticklen\":6,\"ticks\":\"inside\"}},\"marker\":{\"colorbar\":{\"outlinewidth\":0,\"tickcolor\":\"rgb(237,237,237)\",\"ticklen\":6,\"ticks\":\"inside\"}},\"type\":\"scatter3d\"}],\"scattercarpet\":[{\"marker\":{\"colorbar\":{\"outlinewidth\":0,\"tickcolor\":\"rgb(237,237,237)\",\"ticklen\":6,\"ticks\":\"inside\"}},\"type\":\"scattercarpet\"}],\"scattergeo\":[{\"marker\":{\"colorbar\":{\"outlinewidth\":0,\"tickcolor\":\"rgb(237,237,237)\",\"ticklen\":6,\"ticks\":\"inside\"}},\"type\":\"scattergeo\"}],\"scattergl\":[{\"marker\":{\"colorbar\":{\"outlinewidth\":0,\"tickcolor\":\"rgb(237,237,237)\",\"ticklen\":6,\"ticks\":\"inside\"}},\"type\":\"scattergl\"}],\"scattermapbox\":[{\"marker\":{\"colorbar\":{\"outlinewidth\":0,\"tickcolor\":\"rgb(237,237,237)\",\"ticklen\":6,\"ticks\":\"inside\"}},\"type\":\"scattermapbox\"}],\"scatterpolargl\":[{\"marker\":{\"colorbar\":{\"outlinewidth\":0,\"tickcolor\":\"rgb(237,237,237)\",\"ticklen\":6,\"ticks\":\"inside\"}},\"type\":\"scatterpolargl\"}],\"scatterpolar\":[{\"marker\":{\"colorbar\":{\"outlinewidth\":0,\"tickcolor\":\"rgb(237,237,237)\",\"ticklen\":6,\"ticks\":\"inside\"}},\"type\":\"scatterpolar\"}],\"scatter\":[{\"fillpattern\":{\"fillmode\":\"overlay\",\"size\":10,\"solidity\":0.2},\"type\":\"scatter\"}],\"scatterternary\":[{\"marker\":{\"colorbar\":{\"outlinewidth\":0,\"tickcolor\":\"rgb(237,237,237)\",\"ticklen\":6,\"ticks\":\"inside\"}},\"type\":\"scatterternary\"}],\"surface\":[{\"colorbar\":{\"outlinewidth\":0,\"tickcolor\":\"rgb(237,237,237)\",\"ticklen\":6,\"ticks\":\"inside\"},\"colorscale\":[[0,\"rgb(20,44,66)\"],[1,\"rgb(90,179,244)\"]],\"type\":\"surface\"}],\"table\":[{\"cells\":{\"fill\":{\"color\":\"rgb(237,237,237)\"},\"line\":{\"color\":\"white\"}},\"header\":{\"fill\":{\"color\":\"rgb(217,217,217)\"},\"line\":{\"color\":\"white\"}},\"type\":\"table\"}]},\"layout\":{\"annotationdefaults\":{\"arrowhead\":0,\"arrowwidth\":1},\"autotypenumbers\":\"strict\",\"coloraxis\":{\"colorbar\":{\"outlinewidth\":0,\"tickcolor\":\"rgb(237,237,237)\",\"ticklen\":6,\"ticks\":\"inside\"}},\"colorscale\":{\"sequential\":[[0,\"rgb(20,44,66)\"],[1,\"rgb(90,179,244)\"]],\"sequentialminus\":[[0,\"rgb(20,44,66)\"],[1,\"rgb(90,179,244)\"]]},\"colorway\":[\"#F8766D\",\"#A3A500\",\"#00BF7D\",\"#00B0F6\",\"#E76BF3\"],\"font\":{\"color\":\"rgb(51,51,51)\"},\"geo\":{\"bgcolor\":\"white\",\"lakecolor\":\"white\",\"landcolor\":\"rgb(237,237,237)\",\"showlakes\":true,\"showland\":true,\"subunitcolor\":\"white\"},\"hoverlabel\":{\"align\":\"left\"},\"hovermode\":\"closest\",\"paper_bgcolor\":\"white\",\"plot_bgcolor\":\"rgb(237,237,237)\",\"polar\":{\"angularaxis\":{\"gridcolor\":\"white\",\"linecolor\":\"white\",\"showgrid\":true,\"tickcolor\":\"rgb(51,51,51)\",\"ticks\":\"outside\"},\"bgcolor\":\"rgb(237,237,237)\",\"radialaxis\":{\"gridcolor\":\"white\",\"linecolor\":\"white\",\"showgrid\":true,\"tickcolor\":\"rgb(51,51,51)\",\"ticks\":\"outside\"}},\"scene\":{\"xaxis\":{\"backgroundcolor\":\"rgb(237,237,237)\",\"gridcolor\":\"white\",\"gridwidth\":2,\"linecolor\":\"white\",\"showbackground\":true,\"showgrid\":true,\"tickcolor\":\"rgb(51,51,51)\",\"ticks\":\"outside\",\"zerolinecolor\":\"white\"},\"yaxis\":{\"backgroundcolor\":\"rgb(237,237,237)\",\"gridcolor\":\"white\",\"gridwidth\":2,\"linecolor\":\"white\",\"showbackground\":true,\"showgrid\":true,\"tickcolor\":\"rgb(51,51,51)\",\"ticks\":\"outside\",\"zerolinecolor\":\"white\"},\"zaxis\":{\"backgroundcolor\":\"rgb(237,237,237)\",\"gridcolor\":\"white\",\"gridwidth\":2,\"linecolor\":\"white\",\"showbackground\":true,\"showgrid\":true,\"tickcolor\":\"rgb(51,51,51)\",\"ticks\":\"outside\",\"zerolinecolor\":\"white\"}},\"shapedefaults\":{\"fillcolor\":\"black\",\"line\":{\"width\":0},\"opacity\":0.3},\"ternary\":{\"aaxis\":{\"gridcolor\":\"white\",\"linecolor\":\"white\",\"showgrid\":true,\"tickcolor\":\"rgb(51,51,51)\",\"ticks\":\"outside\"},\"baxis\":{\"gridcolor\":\"white\",\"linecolor\":\"white\",\"showgrid\":true,\"tickcolor\":\"rgb(51,51,51)\",\"ticks\":\"outside\"},\"bgcolor\":\"rgb(237,237,237)\",\"caxis\":{\"gridcolor\":\"white\",\"linecolor\":\"white\",\"showgrid\":true,\"tickcolor\":\"rgb(51,51,51)\",\"ticks\":\"outside\"}},\"xaxis\":{\"automargin\":true,\"gridcolor\":\"white\",\"linecolor\":\"white\",\"showgrid\":true,\"tickcolor\":\"rgb(51,51,51)\",\"ticks\":\"outside\",\"title\":{\"standoff\":15},\"zerolinecolor\":\"white\"},\"yaxis\":{\"automargin\":true,\"gridcolor\":\"white\",\"linecolor\":\"white\",\"showgrid\":true,\"tickcolor\":\"rgb(51,51,51)\",\"ticks\":\"outside\",\"title\":{\"standoff\":15},\"zerolinecolor\":\"white\"}}},\"scene\":{\"domain\":{\"x\":[0.0,1.0],\"y\":[0.0,1.0]},\"xaxis\":{\"title\":{\"text\":\"count_gameclicks\"}},\"yaxis\":{\"title\":{\"text\":\"count_hits\"}},\"zaxis\":{\"title\":{\"text\":\"avg_price\"}}},\"coloraxis\":{\"colorbar\":{\"title\":{\"text\":\"prediction\"}},\"colorscale\":[[0.0,\"rgb(20,44,66)\"],[1.0,\"rgb(90,179,244)\"]]},\"legend\":{\"tracegroupgap\":0},\"margin\":{\"t\":60}},                        {\"responsive\": true}                    ).then(function(){\n",
              "                            \n",
              "var gd = document.getElementById('05be4ff6-1da5-49fd-b148-496f362444cc');\n",
              "var x = new MutationObserver(function (mutations, observer) {{\n",
              "        var display = window.getComputedStyle(gd).display;\n",
              "        if (!display || display === 'none') {{\n",
              "            console.log([gd, 'removed!']);\n",
              "            Plotly.purge(gd);\n",
              "            observer.disconnect();\n",
              "        }}\n",
              "}});\n",
              "\n",
              "// Listen for the removal of the full notebook cells\n",
              "var notebookContainer = gd.closest('#notebook-container');\n",
              "if (notebookContainer) {{\n",
              "    x.observe(notebookContainer, {childList: true});\n",
              "}}\n",
              "\n",
              "// Listen for the clearing of the current output cell\n",
              "var outputEl = gd.closest('.output');\n",
              "if (outputEl) {{\n",
              "    x.observe(outputEl, {childList: true});\n",
              "}}\n",
              "\n",
              "                        })                };                            </script>        </div>\n",
              "</body>\n",
              "</html>"
            ]
          },
          "metadata": {}
        }
      ]
    },
    {
      "cell_type": "markdown",
      "source": [
        "Hierarchical Clustering (Bisecting Kmeans)"
      ],
      "metadata": {
        "id": "OTsspW6C8HF-"
      }
    },
    {
      "cell_type": "code",
      "source": [
        "df = spark.read.csv('/content/combined-data1.csv', sep=',', header=True, inferSchema=True, nullValue='NA')\n",
        "df.show(5)"
      ],
      "metadata": {
        "id": "fjOg_U5K8VAD",
        "colab": {
          "base_uri": "https://localhost:8080/"
        },
        "outputId": "4b1ab22c-4dbb-4bdf-8e19-9365e6662bf5"
      },
      "execution_count": null,
      "outputs": [
        {
          "output_type": "stream",
          "name": "stdout",
          "text": [
            "+------+-------------+---------+------------+----------------+----------+-----------+---------+\n",
            "|userId|userSessionId|teamLevel|platformType|count_gameclicks|count_hits|count_buyId|avg_price|\n",
            "+------+-------------+---------+------------+----------------+----------+-----------+---------+\n",
            "|   812|         5648|        1|     android|              69|         8|       null|     null|\n",
            "|  1658|         5649|        1|      iphone|              31|         5|       null|     null|\n",
            "|  1589|         5650|        1|      iphone|              26|         2|       null|     null|\n",
            "|  1863|         5651|        1|     android|              35|         4|       null|     null|\n",
            "|   937|         5652|        1|     android|              39|         0|          1|      1.0|\n",
            "+------+-------------+---------+------------+----------------+----------+-----------+---------+\n",
            "only showing top 5 rows\n",
            "\n"
          ]
        }
      ]
    },
    {
      "cell_type": "code",
      "source": [
        "df2 = df.dropna()"
      ],
      "metadata": {
        "id": "IYR8QBPl8kby"
      },
      "execution_count": null,
      "outputs": []
    },
    {
      "cell_type": "code",
      "source": [
        "df3 = df2.drop('userId','userSessionId','teamLevel','platformType','count_buyId')"
      ],
      "metadata": {
        "id": "ScN4xdcc8ppp"
      },
      "execution_count": null,
      "outputs": []
    },
    {
      "cell_type": "code",
      "source": [
        "df3"
      ],
      "metadata": {
        "id": "ZnvbbRCDAo_n",
        "colab": {
          "base_uri": "https://localhost:8080/"
        },
        "outputId": "8ee753fa-7b9c-445e-b8e8-10e17a7e45fa"
      },
      "execution_count": null,
      "outputs": [
        {
          "output_type": "execute_result",
          "data": {
            "text/plain": [
              "DataFrame[count_gameclicks: int, count_hits: int, avg_price: double]"
            ]
          },
          "metadata": {},
          "execution_count": 82
        }
      ]
    },
    {
      "cell_type": "code",
      "source": [
        "num_cols = ['count_gameclicks', 'count_hits', 'avg_price']"
      ],
      "metadata": {
        "id": "BM7yt-QDWxji"
      },
      "execution_count": null,
      "outputs": []
    },
    {
      "cell_type": "code",
      "source": [
        "from pyspark.ml.clustering import BisectingKMeans"
      ],
      "metadata": {
        "id": "yiQ6Xcd4WQhM"
      },
      "execution_count": null,
      "outputs": []
    },
    {
      "cell_type": "code",
      "source": [
        "assemble=VectorAssembler(inputCols=[\n",
        "'count_gameclicks','count_hits','avg_price'], outputCol='features')\n",
        "assembled_data=assemble.transform(df3)\n",
        "assembled_data.show(2)"
      ],
      "metadata": {
        "colab": {
          "base_uri": "https://localhost:8080/"
        },
        "id": "8-_KkGqAZLYF",
        "outputId": "5bd69406-3ca7-4d16-c79f-3c324880889f"
      },
      "execution_count": null,
      "outputs": [
        {
          "output_type": "stream",
          "name": "stdout",
          "text": [
            "+----------------+----------+---------+----------------+\n",
            "|count_gameclicks|count_hits|avg_price|        features|\n",
            "+----------------+----------+---------+----------------+\n",
            "|              39|         0|      1.0|  [39.0,0.0,1.0]|\n",
            "|             129|         9|     10.0|[129.0,9.0,10.0]|\n",
            "+----------------+----------+---------+----------------+\n",
            "only showing top 2 rows\n",
            "\n"
          ]
        }
      ]
    },
    {
      "cell_type": "code",
      "source": [
        "from pyspark.ml.feature import StandardScaler\n",
        "scale=StandardScaler(inputCol='features',outputCol='standardized')\n",
        "data_scale=scale.fit(assembled_data)\n",
        "data_scale_output=data_scale.transform(assembled_data)\n",
        "data_scale_output.show(2)"
      ],
      "metadata": {
        "colab": {
          "base_uri": "https://localhost:8080/"
        },
        "id": "_Z50rqJXVv9c",
        "outputId": "4f471ccd-edad-471c-945c-00edd6795a98"
      },
      "execution_count": null,
      "outputs": [
        {
          "output_type": "stream",
          "name": "stdout",
          "text": [
            "+----------------+----------+---------+----------------+--------------------+\n",
            "|count_gameclicks|count_hits|avg_price|        features|        standardized|\n",
            "+----------------+----------+---------+----------------+--------------------+\n",
            "|              39|         0|      1.0|  [39.0,0.0,1.0]|[0.32564337906060...|\n",
            "|             129|         9|     10.0|[129.0,9.0,10.0]|[1.07712809996968...|\n",
            "+----------------+----------+---------+----------------+--------------------+\n",
            "only showing top 2 rows\n",
            "\n"
          ]
        }
      ]
    },
    {
      "cell_type": "code",
      "source": [
        "from pyspark.ml.clustering import BisectingKMeans\n",
        "from pyspark.ml.evaluation import ClusteringEvaluator\n",
        "\n",
        "silhouette_scores=[]\n",
        "evaluator = ClusteringEvaluator(featuresCol='features', \\\n",
        "metricName='silhouette')\n",
        "for K in range(2,11):\n",
        "\n",
        "    BKMeans_=BisectingKMeans(featuresCol='standardized', k=K, minDivisibleClusterSize =1)\n",
        "\n",
        "    BKMeans_fit=BKMeans_.fit(data_scale_output)\n",
        "\n",
        "    BKMeans_transform=BKMeans_fit.transform(data_scale_output) \n",
        "\n",
        "    evaluation_score=evaluator.evaluate(BKMeans_transform)\n",
        "\n",
        "    silhouette_scores.append(evaluation_score)"
      ],
      "metadata": {
        "id": "esTYo0mvaGNE"
      },
      "execution_count": null,
      "outputs": []
    },
    {
      "cell_type": "code",
      "source": [
        "import matplotlib.pyplot as plt\n",
        "fig, ax = plt.subplots(1,1, figsize =(10,8))\n",
        "ax.plot(range(2,11),silhouette_scores)\n",
        "ax.set_xlabel('Number of Clusters')\n",
        "ax.set_ylabel('Silhouette Score')"
      ],
      "metadata": {
        "colab": {
          "base_uri": "https://localhost:8080/",
          "height": 713
        },
        "id": "Vkim3rT3avMl",
        "outputId": "6bef35da-d106-4d78-d2a3-b3cd5667b44d"
      },
      "execution_count": null,
      "outputs": [
        {
          "output_type": "execute_result",
          "data": {
            "text/plain": [
              "Text(0, 0.5, 'Silhouette Score')"
            ]
          },
          "metadata": {},
          "execution_count": 112
        },
        {
          "output_type": "display_data",
          "data": {
            "text/plain": [
              "<Figure size 1000x800 with 1 Axes>"
            ],
            "image/png": "[encoded data removed]"
          },
          "metadata": {}
        }
      ]
    },
    {
      "cell_type": "code",
      "source": [
        "BKMeans_=BisectingKMeans(featuresCol='features', k=2) \n",
        "BKMeans_Model=BKMeans_.fit(data_scale_output)\n",
        "BKMeans_transform=BKMeans_Model.transform(data_scale_output)"
      ],
      "metadata": {
        "id": "eAf0ZTk8a7xK"
      },
      "execution_count": null,
      "outputs": []
    },
    {
      "cell_type": "code",
      "source": [
        "from pyspark.ml.feature import PCA as PCAml\n",
        "pca = PCAml(k=2, inputCol=\"features\", outputCol=\"pca\")\n",
        "pca_model = pca.fit(data_scale_output)\n",
        "pca_transformed = pca_model.transform(data_scale_output)"
      ],
      "metadata": {
        "id": "cjXoM4dlbS47"
      },
      "execution_count": null,
      "outputs": []
    },
    {
      "cell_type": "code",
      "source": [
        "import numpy as np\n",
        "X_pca = pca_transformed.rdd.map(lambda row: row.pca).collect()\n",
        "X_pca = np.array(X_pca)"
      ],
      "metadata": {
        "id": "e9F7Xwb6bcWk"
      },
      "execution_count": null,
      "outputs": []
    },
    {
      "cell_type": "code",
      "source": [
        "cluster_assignment = np.array(BKMeans_transform.rdd.map(lambda row: row.prediction).collect()).reshape(-1,1)"
      ],
      "metadata": {
        "id": "d8GkBmb5bpmL"
      },
      "execution_count": null,
      "outputs": []
    },
    {
      "cell_type": "code",
      "source": [
        "import seaborn as sns\n",
        "import matplotlib.pyplot as plt\n",
        "\n",
        "pca_data = np.hstack((X_pca,cluster_assignment))\n",
        "\n",
        "pca_df = pd.DataFrame(data=pca_data, columns=(\"1st_principal\", \"2nd_principal\",\"cluster_assignment\"))\n",
        "sns.FacetGrid(pca_df,hue=\"cluster_assignment\", height=6).map(plt.scatter, '1st_principal', '2nd_principal' ).add_legend()\n",
        "plt.show()"
      ],
      "metadata": {
        "colab": {
          "base_uri": "https://localhost:8080/",
          "height": 607
        },
        "id": "mNl4kuTPbhNV",
        "outputId": "515b91f6-35f4-4f3b-f9ab-03da983e88b4"
      },
      "execution_count": null,
      "outputs": [
        {
          "output_type": "display_data",
          "data": {
            "text/plain": [
              "<Figure size 745.861x600 with 1 Axes>"
            ],
            "image/png": "[encoded data removed]"
          },
          "metadata": {}
        }
      ]
    },
    {
      "cell_type": "code",
      "source": [],
      "metadata": {
        "id": "XO16uqh8CUB_"
      },
      "execution_count": null,
      "outputs": []
    },
    {
      "cell_type": "markdown",
      "source": [
        "Graph Code for Neo4j\n"
      ],
      "metadata": {
        "id": "NC6fFb9NXDqO"
      }
    },
    {
      "cell_type": "code",
      "source": [
        "#Adding datasets to neo4j\n",
        "LOAD CSV with headers FROM \"file:///chat_join_team_chat\" AS row\n",
        "MERGE (u:User {id: row.user_id}) \n",
        "MERGE (c:TeamChatSession {id: row.teamchat_session_id}) \n",
        "MERGE (u)-[:Join{timeStamp: row.date}]->(c)\n",
        "\n",
        "LOAD CSV with headers FROM \"file:///chat_leave_team_chat\" AS row\n",
        "MERGE (u:User {id: row.user_id}) \n",
        "MERGE (c:TeamChatSession {id: row.teamchat_session_id}) \n",
        "MERGE (u)-[:Leaves{timeStamp: row.date}]->(c)\n",
        "\n",
        "\n",
        "LOAD CSV with headers FROM 'file:///chat_mention_team_chat' AS row \n",
        "MERGE (i:ChatItem {id: row.chat_item}) \n",
        "MERGE (u:User {id: row.user_id}) \n",
        "MERGE (i)-[:Mentioned{timeStamp: row.date}]->(u)\n",
        "\n",
        "LOAD CSV with headers FROM 'file:///chat_respond_team_chat' AS row \n",
        "MERGE (i:ChatItem {id: row.chatid1}) \n",
        "MERGE (j:ChatItem {id: row.chatid2}) \n",
        "MERGE (i)-[:ResponseTo{timeStamp: row.date}]->(j)\n",
        "\n",
        "\n",
        "#Join and leave queries for 1 and 5 chat sessions\n",
        "MATCH (a)-[:Join]->(b)\n",
        "RETURN b, COLLECT(a) as joiners\n",
        "ORDER BY SIZE(joiners) DESC LIMIT 1\n",
        "\n",
        "MATCH (a)-[:Join]->(b)\n",
        "RETURN b, COLLECT(a) as joiners\n",
        "ORDER BY SIZE(joiners) DESC LIMIT 5\n",
        "\n",
        "#Chat Items by user\n",
        "match (u:User)-[:Mentioned]-(i:ChatItem)\n",
        "return u.id as Users,count(u.id) as chatitems\n",
        "ORDER BY count(u.id) desc limit 10\n",
        "\n",
        "#mention and respond to query\n",
        "match x = (p:User) - [:Mentioned] - (i:ChatItem) - [:RespondsTo] -() return x limit 100\n",
        "\n",
        "#Longest conversation thread\n",
        "match p=(i:ChatItem)-[:RespondsTo*]->(j:ChatItem)\n",
        "return p, length(p) order by length(p) desc limit 1\n",
        "\n",
        "#Degree Centralities\n",
        "MATCH (p:User)\n",
        "RETURN p, size([(p)-[:Join]-() | 1]) AS degree_centrality\n",
        "ORDER BY degree_centrality DESC LIMIT 10\n",
        "\n",
        "MATCH (p:User)\n",
        "RETURN p, size([(p)-[:Leaves]-() | 1]) AS degree_centrality\n",
        "ORDER BY degree_centrality DESC LIMIT 10\n",
        "\n",
        "MATCH (p:User)\n",
        "RETURN p, size([(p)-[:Mentioned]-() | 1]) AS degree_centrality\n",
        "ORDER BY degree_centrality DESC LIMIT 10\n",
        "\n",
        "MATCH (p:ChatItem)\n",
        "RETURN p, size([(p)-[:RespondsTo]-() | 1]) AS degree_centrality\n",
        "ORDER BY degree_centrality DESC LIMIT 10\n",
        "\n",
        "\n",
        "\n"
      ],
      "metadata": {
        "id": "GLXNYyzEXIEV"
      },
      "execution_count": null,
      "outputs": []
    }
  ]
}